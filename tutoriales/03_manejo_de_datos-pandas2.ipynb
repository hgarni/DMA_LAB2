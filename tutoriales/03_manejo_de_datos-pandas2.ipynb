{
  "cells": [
    {
      "cell_type": "markdown",
      "metadata": {
        "id": "aGbMFeOQt3pF"
      },
      "source": [
        "\n",
        "<a href=\"https://colab.research.google.com/github/Argentan/DMA_LAB2/blob/master/tutoriales/03_manejo_de_datos-pandas2.ipynb\" target=\"_parent\"><img src=\"https://colab.research.google.com/assets/colab-badge.svg\" alt=\"Open In Colab\"/></a>\n"
      ]
    },
    {
      "cell_type": "markdown",
      "metadata": {
        "id": "ERBTP0zrt3pG"
      },
      "source": [
        "# Pandas - Continuación"
      ]
    },
    {
      "cell_type": "markdown",
      "metadata": {
        "id": "u6tg7bby_YD3"
      },
      "source": [
        "## Combinando Data Frames"
      ]
    },
    {
      "cell_type": "code",
      "execution_count": 1,
      "metadata": {
        "id": "3mNEKIEWt3pH"
      },
      "outputs": [],
      "source": [
        "import numpy as np\n",
        "import pandas as pd"
      ]
    },
    {
      "cell_type": "markdown",
      "metadata": {
        "id": "Ke1ZrC_j_YEB"
      },
      "source": [
        "### Append"
      ]
    },
    {
      "cell_type": "code",
      "execution_count": 2,
      "metadata": {
        "id": "7f1qzRRT_YEC"
      },
      "outputs": [
        {
          "data": {
            "text/html": [
              "<div>\n",
              "<style scoped>\n",
              "    .dataframe tbody tr th:only-of-type {\n",
              "        vertical-align: middle;\n",
              "    }\n",
              "\n",
              "    .dataframe tbody tr th {\n",
              "        vertical-align: top;\n",
              "    }\n",
              "\n",
              "    .dataframe thead th {\n",
              "        text-align: right;\n",
              "    }\n",
              "</style>\n",
              "<table border=\"1\" class=\"dataframe\">\n",
              "  <thead>\n",
              "    <tr style=\"text-align: right;\">\n",
              "      <th></th>\n",
              "      <th>id</th>\n",
              "      <th>Nombre</th>\n",
              "    </tr>\n",
              "  </thead>\n",
              "  <tbody>\n",
              "    <tr>\n",
              "      <th>0</th>\n",
              "      <td>1</td>\n",
              "      <td>Ana</td>\n",
              "    </tr>\n",
              "    <tr>\n",
              "      <th>1</th>\n",
              "      <td>2</td>\n",
              "      <td>Juan</td>\n",
              "    </tr>\n",
              "    <tr>\n",
              "      <th>2</th>\n",
              "      <td>3</td>\n",
              "      <td>Carolina</td>\n",
              "    </tr>\n",
              "    <tr>\n",
              "      <th>3</th>\n",
              "      <td>4</td>\n",
              "      <td>Pedro</td>\n",
              "    </tr>\n",
              "  </tbody>\n",
              "</table>\n",
              "</div>"
            ],
            "text/plain": [
              "   id    Nombre\n",
              "0   1       Ana\n",
              "1   2      Juan\n",
              "2   3  Carolina\n",
              "3   4     Pedro"
            ]
          },
          "execution_count": 2,
          "metadata": {},
          "output_type": "execute_result"
        }
      ],
      "source": [
        "Nombres = pd.DataFrame({'id':[1,2,3,4], 'Nombre': [\"Ana\", \"Juan\", \"Carolina\", \"Pedro\"]})\n",
        "Nombres"
      ]
    },
    {
      "cell_type": "code",
      "execution_count": null,
      "metadata": {
        "id": "3nwfhuDM_YEJ"
      },
      "outputs": [],
      "source": [
        "Nombres2 = pd.DataFrame({'id':[5,6], 'Nombre': [\"Julia\", \"Alberto\"]})\n",
        "Nombres2"
      ]
    },
    {
      "cell_type": "code",
      "execution_count": null,
      "metadata": {
        "id": "2t-YUr55_YET"
      },
      "outputs": [],
      "source": [
        "Nombres.append(Nombres2)"
      ]
    },
    {
      "cell_type": "markdown",
      "metadata": {
        "id": "JN2TqrJ6_YEZ"
      },
      "source": [
        "### Merge"
      ]
    },
    {
      "cell_type": "markdown",
      "metadata": {
        "id": "7Avh0W_u_YEZ"
      },
      "source": [
        "#### Por una columna"
      ]
    },
    {
      "cell_type": "code",
      "execution_count": 3,
      "metadata": {
        "id": "GqeDvE9Q_YEa"
      },
      "outputs": [
        {
          "data": {
            "text/html": [
              "<div>\n",
              "<style scoped>\n",
              "    .dataframe tbody tr th:only-of-type {\n",
              "        vertical-align: middle;\n",
              "    }\n",
              "\n",
              "    .dataframe tbody tr th {\n",
              "        vertical-align: top;\n",
              "    }\n",
              "\n",
              "    .dataframe thead th {\n",
              "        text-align: right;\n",
              "    }\n",
              "</style>\n",
              "<table border=\"1\" class=\"dataframe\">\n",
              "  <thead>\n",
              "    <tr style=\"text-align: right;\">\n",
              "      <th></th>\n",
              "      <th>id</th>\n",
              "      <th>Nombre</th>\n",
              "    </tr>\n",
              "  </thead>\n",
              "  <tbody>\n",
              "    <tr>\n",
              "      <th>0</th>\n",
              "      <td>1</td>\n",
              "      <td>Ana</td>\n",
              "    </tr>\n",
              "    <tr>\n",
              "      <th>1</th>\n",
              "      <td>2</td>\n",
              "      <td>Juan</td>\n",
              "    </tr>\n",
              "    <tr>\n",
              "      <th>2</th>\n",
              "      <td>3</td>\n",
              "      <td>Carolina</td>\n",
              "    </tr>\n",
              "    <tr>\n",
              "      <th>3</th>\n",
              "      <td>4</td>\n",
              "      <td>Pedro</td>\n",
              "    </tr>\n",
              "  </tbody>\n",
              "</table>\n",
              "</div>"
            ],
            "text/plain": [
              "   id    Nombre\n",
              "0   1       Ana\n",
              "1   2      Juan\n",
              "2   3  Carolina\n",
              "3   4     Pedro"
            ]
          },
          "execution_count": 3,
          "metadata": {},
          "output_type": "execute_result"
        }
      ],
      "source": [
        "Nombres = pd.DataFrame({'id':[1,2,3,4], 'Nombre': [\"Ana\", \"Juan\", \"Carolina\", \"Pedro\"]})\n",
        "Nombres"
      ]
    },
    {
      "cell_type": "code",
      "execution_count": 4,
      "metadata": {
        "id": "nT1DBDp3_YEj"
      },
      "outputs": [
        {
          "data": {
            "text/html": [
              "<div>\n",
              "<style scoped>\n",
              "    .dataframe tbody tr th:only-of-type {\n",
              "        vertical-align: middle;\n",
              "    }\n",
              "\n",
              "    .dataframe tbody tr th {\n",
              "        vertical-align: top;\n",
              "    }\n",
              "\n",
              "    .dataframe thead th {\n",
              "        text-align: right;\n",
              "    }\n",
              "</style>\n",
              "<table border=\"1\" class=\"dataframe\">\n",
              "  <thead>\n",
              "    <tr style=\"text-align: right;\">\n",
              "      <th></th>\n",
              "      <th>id</th>\n",
              "      <th>Edad</th>\n",
              "    </tr>\n",
              "  </thead>\n",
              "  <tbody>\n",
              "    <tr>\n",
              "      <th>0</th>\n",
              "      <td>1</td>\n",
              "      <td>11</td>\n",
              "    </tr>\n",
              "    <tr>\n",
              "      <th>1</th>\n",
              "      <td>2</td>\n",
              "      <td>21</td>\n",
              "    </tr>\n",
              "    <tr>\n",
              "      <th>2</th>\n",
              "      <td>3</td>\n",
              "      <td>8</td>\n",
              "    </tr>\n",
              "    <tr>\n",
              "      <th>3</th>\n",
              "      <td>4</td>\n",
              "      <td>15</td>\n",
              "    </tr>\n",
              "  </tbody>\n",
              "</table>\n",
              "</div>"
            ],
            "text/plain": [
              "   id  Edad\n",
              "0   1    11\n",
              "1   2    21\n",
              "2   3     8\n",
              "3   4    15"
            ]
          },
          "execution_count": 4,
          "metadata": {},
          "output_type": "execute_result"
        }
      ],
      "source": [
        "Edad = pd.DataFrame({'id':[1,2,3,4], 'Edad':[11,21,8,15]})\n",
        "Edad"
      ]
    },
    {
      "cell_type": "code",
      "execution_count": 5,
      "metadata": {
        "id": "LJF2Q4IM_YEn"
      },
      "outputs": [
        {
          "data": {
            "text/html": [
              "<div>\n",
              "<style scoped>\n",
              "    .dataframe tbody tr th:only-of-type {\n",
              "        vertical-align: middle;\n",
              "    }\n",
              "\n",
              "    .dataframe tbody tr th {\n",
              "        vertical-align: top;\n",
              "    }\n",
              "\n",
              "    .dataframe thead th {\n",
              "        text-align: right;\n",
              "    }\n",
              "</style>\n",
              "<table border=\"1\" class=\"dataframe\">\n",
              "  <thead>\n",
              "    <tr style=\"text-align: right;\">\n",
              "      <th></th>\n",
              "      <th>id</th>\n",
              "      <th>Nombre</th>\n",
              "      <th>Edad</th>\n",
              "    </tr>\n",
              "  </thead>\n",
              "  <tbody>\n",
              "    <tr>\n",
              "      <th>0</th>\n",
              "      <td>1</td>\n",
              "      <td>Ana</td>\n",
              "      <td>11</td>\n",
              "    </tr>\n",
              "    <tr>\n",
              "      <th>1</th>\n",
              "      <td>2</td>\n",
              "      <td>Juan</td>\n",
              "      <td>21</td>\n",
              "    </tr>\n",
              "    <tr>\n",
              "      <th>2</th>\n",
              "      <td>3</td>\n",
              "      <td>Carolina</td>\n",
              "      <td>8</td>\n",
              "    </tr>\n",
              "    <tr>\n",
              "      <th>3</th>\n",
              "      <td>4</td>\n",
              "      <td>Pedro</td>\n",
              "      <td>15</td>\n",
              "    </tr>\n",
              "  </tbody>\n",
              "</table>\n",
              "</div>"
            ],
            "text/plain": [
              "   id    Nombre  Edad\n",
              "0   1       Ana    11\n",
              "1   2      Juan    21\n",
              "2   3  Carolina     8\n",
              "3   4     Pedro    15"
            ]
          },
          "execution_count": 5,
          "metadata": {},
          "output_type": "execute_result"
        }
      ],
      "source": [
        "pd.merge(Nombres, Edad)"
      ]
    },
    {
      "cell_type": "markdown",
      "metadata": {
        "id": "Zl1oyLg9_YEv"
      },
      "source": [
        "#### Especificando columna comun"
      ]
    },
    {
      "cell_type": "code",
      "execution_count": 6,
      "metadata": {
        "id": "ZaDNxkv0_YEw"
      },
      "outputs": [],
      "source": [
        "Nombres = pd.DataFrame({'id_Nombres':[1,2,3,4], 'Nombre': [\"Ana\", \"Juan\", \"Carolina\", \"Pedro\"]})\n",
        "Edad = pd.DataFrame({'id_edades':[1,2,3,4], 'Edad':[11,21,8,15]})"
      ]
    },
    {
      "cell_type": "code",
      "execution_count": 7,
      "metadata": {
        "id": "zS_WDcGb_YEz"
      },
      "outputs": [
        {
          "data": {
            "text/html": [
              "<div>\n",
              "<style scoped>\n",
              "    .dataframe tbody tr th:only-of-type {\n",
              "        vertical-align: middle;\n",
              "    }\n",
              "\n",
              "    .dataframe tbody tr th {\n",
              "        vertical-align: top;\n",
              "    }\n",
              "\n",
              "    .dataframe thead th {\n",
              "        text-align: right;\n",
              "    }\n",
              "</style>\n",
              "<table border=\"1\" class=\"dataframe\">\n",
              "  <thead>\n",
              "    <tr style=\"text-align: right;\">\n",
              "      <th></th>\n",
              "      <th>id_Nombres</th>\n",
              "      <th>Nombre</th>\n",
              "      <th>id_edades</th>\n",
              "      <th>Edad</th>\n",
              "    </tr>\n",
              "  </thead>\n",
              "  <tbody>\n",
              "    <tr>\n",
              "      <th>0</th>\n",
              "      <td>1</td>\n",
              "      <td>Ana</td>\n",
              "      <td>1</td>\n",
              "      <td>11</td>\n",
              "    </tr>\n",
              "    <tr>\n",
              "      <th>1</th>\n",
              "      <td>2</td>\n",
              "      <td>Juan</td>\n",
              "      <td>2</td>\n",
              "      <td>21</td>\n",
              "    </tr>\n",
              "    <tr>\n",
              "      <th>2</th>\n",
              "      <td>3</td>\n",
              "      <td>Carolina</td>\n",
              "      <td>3</td>\n",
              "      <td>8</td>\n",
              "    </tr>\n",
              "    <tr>\n",
              "      <th>3</th>\n",
              "      <td>4</td>\n",
              "      <td>Pedro</td>\n",
              "      <td>4</td>\n",
              "      <td>15</td>\n",
              "    </tr>\n",
              "  </tbody>\n",
              "</table>\n",
              "</div>"
            ],
            "text/plain": [
              "   id_Nombres    Nombre  id_edades  Edad\n",
              "0           1       Ana          1    11\n",
              "1           2      Juan          2    21\n",
              "2           3  Carolina          3     8\n",
              "3           4     Pedro          4    15"
            ]
          },
          "execution_count": 7,
          "metadata": {},
          "output_type": "execute_result"
        }
      ],
      "source": [
        "pd.merge(Nombres, Edad, left_on='id_Nombres', right_on='id_edades')"
      ]
    },
    {
      "cell_type": "markdown",
      "metadata": {
        "id": "SECeAtuP_YE4"
      },
      "source": [
        "### How (inner, outer, left, right,...)"
      ]
    },
    {
      "cell_type": "markdown",
      "metadata": {
        "id": "h2QJu4jnqwHw"
      },
      "source": [
        "![join.JPG](data:image/jpeg;base64,/9j/4AAQSkZJRgABAQEAeAB4AAD/4RDyRXhpZgAATU0AKgAAAAgABAE7AAIAAAANAAAISodpAAQAAAABAAAIWJydAAEAAAAaAAAQ0OocAAcAAAgMAAAAPgAAAAAc6gAAAAgAAAAAAAAAAAAAAAAAAAAAAAAAAAAAAAAAAAAAAAAAAAAAAAAAAAAAAAAAAAAAAAAAAAAAAAAAAAAAAAAAAAAAAAAAAAAAAAAAAAAAAAAAAAAAAAAAAAAAAAAAAAAAAAAAAAAAAAAAAAAAAAAAAAAAAAAAAAAAAAAAAAAAAAAAAAAAAAAAAAAAAAAAAAAAAAAAAAAAAAAAAAAAAAAAAAAAAAAAAAAAAAAAAAAAAAAAAAAAAAAAAAAAAAAAAAAAAAAAAAAAAAAAAAAAAAAAAAAAAAAAAAAAAAAAAAAAAAAAAAAAAAAAAAAAAAAAAAAAAAAAAAAAAAAAAAAAAAAAAAAAAAAAAAAAAAAAAAAAAAAAAAAAAAAAAAAAAAAAAAAAAAAAAAAAAAAAAAAAAAAAAAAAAAAAAAAAAAAAAAAAAAAAAAAAAAAAAAAAAAAAAAAAAAAAAAAAAAAAAAAAAAAAAAAAAAAAAAAAAAAAAAAAAAAAAAAAAAAAAAAAAAAAAAAAAAAAAAAAAAAAAAAAAAAAAAAAAAAAAAAAAAAAAAAAAAAAAAAAAAAAAAAAAAAAAAAAAAAAAAAAAAAAAAAAAAAAAAAAAAAAAAAAAAAAAAAAAAAAAAAAAAAAAAAAAAAAAAAAAAAAAAAAAAAAAAAAAAAAAAAAAAAAAAAAAAAAAAAAAAAAAAAAAAAAAAAAAAAAAAAAAAAAAAAAAAAAAAAAAAAAAAAAAAAAAAAAAAAAAAAAAAAAAAAAAAAAAAAAAAAAAAAAAAAAAAAAAAAAAAAAAAAAAAAAAAAAAAAAAAAAAAAAAAAAAAAAAAAAAAAAAAAAAAAAAAAAAAAAAAAAAAAAAAAAAAAAAAAAAAAAAAAAAAAAAAAAAAAAAAAAAAAAAAAAAAAAAAAAAAAAAAAAAAAAAAAAAAAAAAAAAAAAAAAAAAAAAAAAAAAAAAAAAAAAAAAAAAAAAAAAAAAAAAAAAAAAAAAAAAAAAAAAAAAAAAAAAAAAAAAAAAAAAAAAAAAAAAAAAAAAAAAAAAAAAAAAAAAAAAAAAAAAAAAAAAAAAAAAAAAAAAAAAAAAAAAAAAAAAAAAAAAAAAAAAAAAAAAAAAAAAAAAAAAAAAAAAAAAAAAAAAAAAAAAAAAAAAAAAAAAAAAAAAAAAAAAAAAAAAAAAAAAAAAAAAAAAAAAAAAAAAAAAAAAAAAAAAAAAAAAAAAAAAAAAAAAAAAAAAAAAAAAAAAAAAAAAAAAAAAAAAAAAAAAAAAAAAAAAAAAAAAAAAAAAAAAAAAAAAAAAAAAAAAAAAAAAAAAAAAAAAAAAAAAAAAAAAAAAAAAAAAAAAAAAAAAAAAAAAAAAAAAAAAAAAAAAAAAAAAAAAAAAAAAAAAAAAAAAAAAAAAAAAAAAAAAAAAAAAAAAAAAAAAAAAAAAAAAAAAAAAAAAAAAAAAAAAAAAAAAAAAAAAAAAAAAAAAAAAAAAAAAAAAAAAAAAAAAAAAAAAAAAAAAAAAAAAAAAAAAAAAAAAAAAAAAAAAAAAAAAAAAAAAAAAAAAAAAAAAAAAAAAAAAAAAAAAAAAAAAAAAAAAAAAAAAAAAAAAAAAAAAAAAAAAAAAAAAAAAAAAAAAAAAAAAAAAAAAAAAAAAAAAAAAAAAAAAAAAAAAAAAAAAAAAAAAAAAAAAAAAAAAAAAAAAAAAAAAAAAAAAAAAAAAAAAAAAAAAAAAAAAAAAAAAAAAAAAAAAAAAAAAAAAAAAAAAAAAAAAAAAAAAAAAAAAAAAAAAAAAAAAAAAAAAAAAAAAAAAAAAAAAAAAAAAAAAAAAAAAAAAAAAAAAAAAAAAAAAAAAAAAAAAAAAAAAAAAAAAAAAAAAAAAAAAAAAAAAAAAAAAAAAAAAAAAAAAAAAAAAAAAAAAAAAAAAAAAAAAAAAAAAAAAAAAAAAAAAAAAAAAAAAAAAAAAAAAAAAAAAAAAAAAAAAAAAAAAAAAAAAAAAAAAAAAAAAAAAAAAAAAAAAAAAAAAAAAAAAAAAAAAAAAAAAAAAAAAAAAAAAAAAAAAAAAAAAAAAAAAAAAAAAAAAAAAAAAAAAAAAAAAAAAAAAAAAAAAAAAAAAAAAAAAAAAAAAAAAAAAAAAAAAAAAAAAAAAAAAAAAAAAAAAAAAAAAAAAAAAAAAAAAAAAAAAAAAAAAAAAAAAAAAAAAAAAAAAAAAAAAAAAAAAAAAAAAAAAAAAAAAAAAAAAAAAAAAAAAAAAAAAAAAAAAAAAAAAAAAAAAAAAAAAAAAAAAAAAAAAAAAAAAAAAAAAAAAAAAAAAAAAAAAAAAAAAAAAAAAAAAAAAAAAAAAAAAAAAAAAAAAAAAAAAAAAAAAAAAAAAAAAAAAAAAAAAAAAAAAAAAAAAAAAAAAAAAAAAAAAAAAAAAAAAAAAAAAAAAAAAAAAAAAAAAAAAAAAAAAAAAAAAAAAAAAAAAAAAAAAAAAAAAAAAAAAAAAAAAAAAAAAAAAAAAAAAAAAAAAAAAAAAAAAAAAAAAAAAAAAAAAAAAAAAAAAAAAAAAAAAAAAAAAAAAAAAAAAAAAAAAAAAAAAAAAAAAAAAAAAAAAAAAAAAAAAAAAAAAAAAAAAAAAAAAAAAAAAAAAAAAAAAAAAAAAAAAAAAAAAAAAAAAAAAAAAAAAAAAAAAAAAAAAAAAAAAAAAAAAAAAAAAAAAAAAAAAAAAAAAAAAAAAAAAAAAAAAAAAAAAAAAAAAAAAAAAAAAAAAAAAAAAAAAAAAAAAAAAAFBhYmxvIEFsYmFuaQAAAAWQAwACAAAAFAAAEKaQBAACAAAAFAAAELqSkQACAAAAAzg1AACSkgACAAAAAzg1AADqHAAHAAAIDAAACJoAAAAAHOoAAAAIAAAAAAAAAAAAAAAAAAAAAAAAAAAAAAAAAAAAAAAAAAAAAAAAAAAAAAAAAAAAAAAAAAAAAAAAAAAAAAAAAAAAAAAAAAAAAAAAAAAAAAAAAAAAAAAAAAAAAAAAAAAAAAAAAAAAAAAAAAAAAAAAAAAAAAAAAAAAAAAAAAAAAAAAAAAAAAAAAAAAAAAAAAAAAAAAAAAAAAAAAAAAAAAAAAAAAAAAAAAAAAAAAAAAAAAAAAAAAAAAAAAAAAAAAAAAAAAAAAAAAAAAAAAAAAAAAAAAAAAAAAAAAAAAAAAAAAAAAAAAAAAAAAAAAAAAAAAAAAAAAAAAAAAAAAAAAAAAAAAAAAAAAAAAAAAAAAAAAAAAAAAAAAAAAAAAAAAAAAAAAAAAAAAAAAAAAAAAAAAAAAAAAAAAAAAAAAAAAAAAAAAAAAAAAAAAAAAAAAAAAAAAAAAAAAAAAAAAAAAAAAAAAAAAAAAAAAAAAAAAAAAAAAAAAAAAAAAAAAAAAAAAAAAAAAAAAAAAAAAAAAAAAAAAAAAAAAAAAAAAAAAAAAAAAAAAAAAAAAAAAAAAAAAAAAAAAAAAAAAAAAAAAAAAAAAAAAAAAAAAAAAAAAAAAAAAAAAAAAAAAAAAAAAAAAAAAAAAAAAAAAAAAAAAAAAAAAAAAAAAAAAAAAAAAAAAAAAAAAAAAAAAAAAAAAAAAAAAAAAAAAAAAAAAAAAAAAAAAAAAAAAAAAAAAAAAAAAAAAAAAAAAAAAAAAAAAAAAAAAAAAAAAAAAAAAAAAAAAAAAAAAAAAAAAAAAAAAAAAAAAAAAAAAAAAAAAAAAAAAAAAAAAAAAAAAAAAAAAAAAAAAAAAAAAAAAAAAAAAAAAAAAAAAAAAAAAAAAAAAAAAAAAAAAAAAAAAAAAAAAAAAAAAAAAAAAAAAAAAAAAAAAAAAAAAAAAAAAAAAAAAAAAAAAAAAAAAAAAAAAAAAAAAAAAAAAAAAAAAAAAAAAAAAAAAAAAAAAAAAAAAAAAAAAAAAAAAAAAAAAAAAAAAAAAAAAAAAAAAAAAAAAAAAAAAAAAAAAAAAAAAAAAAAAAAAAAAAAAAAAAAAAAAAAAAAAAAAAAAAAAAAAAAAAAAAAAAAAAAAAAAAAAAAAAAAAAAAAAAAAAAAAAAAAAAAAAAAAAAAAAAAAAAAAAAAAAAAAAAAAAAAAAAAAAAAAAAAAAAAAAAAAAAAAAAAAAAAAAAAAAAAAAAAAAAAAAAAAAAAAAAAAAAAAAAAAAAAAAAAAAAAAAAAAAAAAAAAAAAAAAAAAAAAAAAAAAAAAAAAAAAAAAAAAAAAAAAAAAAAAAAAAAAAAAAAAAAAAAAAAAAAAAAAAAAAAAAAAAAAAAAAAAAAAAAAAAAAAAAAAAAAAAAAAAAAAAAAAAAAAAAAAAAAAAAAAAAAAAAAAAAAAAAAAAAAAAAAAAAAAAAAAAAAAAAAAAAAAAAAAAAAAAAAAAAAAAAAAAAAAAAAAAAAAAAAAAAAAAAAAAAAAAAAAAAAAAAAAAAAAAAAAAAAAAAAAAAAAAAAAAAAAAAAAAAAAAAAAAAAAAAAAAAAAAAAAAAAAAAAAAAAAAAAAAAAAAAAAAAAAAAAAAAAAAAAAAAAAAAAAAAAAAAAAAAAAAAAAAAAAAAAAAAAAAAAAAAAAAAAAAAAAAAAAAAAAAAAAAAAAAAAAAAAAAAAAAAAAAAAAAAAAAAAAAAAAAAAAAAAAAAAAAAAAAAAAAAAAAAAAAAAAAAAAAAAAAAAAAAAAAAAAAAAAAAAAAAAAAAAAAAAAAAAAAAAAAAAAAAAAAAAAAAAAAAAAAAAAAAAAAAAAAAAAAAAAAAAAAAAAAAAAAAAAAAAAAAAAAAAAAAAAAAAAAAAAAAAAAAAAAAAAAAAAAAAAAAAAAAAAAAAAAAAAAAAAAAAAAAAAAAAAAAAAAAAAAAAAAAAAAAAAAAAAAAAAAAAAAAAAAAAAAAAAAAAAAAAAAAAAAAAAAAAAAAAAAAAAAAAAAAAAAAAAAAAAAAAAAAAAAAAAAAAAAAAAAAAAAAAAAAAAAAAAAAAAAAAAAAAAAAAAAAAAAAAAAAAAAAAAAAAAAAAAAAAAAAAAAAAAAAAAAAAAAAAAAAAAAAAAAAAAAAAAAAAAAAAAAAAAAAAAAAAAAAAAAAAAAAAAAAAAAAAAAAAAAAAAAAAAAAAAAAAAAAAAAAAAAAAAAAAAAAAAAAAAAAAAAAAAAAAAAAAAAAAAAAAAAAAAAAAAAAAAAAAAAAAAAAAAAAAAAAAAAAAAAAAAAAAAAAAAAAAAAAAAAAAAAAAAAAAAAAAAAAAAAAAAAAAAAAAAAAAAAAAAAAAAAAAAAAAAAAAAAAAAAAAAAAAAAAAAAAAAAAAAAAAAAAAAAAAAAAAAAAAAAAAAAAAAAAAAAAAAAAAAAAAAAAAAAAAAAAAAAAAAAAAAAAAAAAAAAAAAAAAAAAAAAAAAAAAAAAAAAAAAAAAAAAAAAAAAAAAAAAAAAAAAAAAAAAAAAAAAAAAAAAAAAAAAAAAAAAAAAAAAAAAAAAAAAAAAAAAAAAAAAAAAAAAAAAAAAAAAAAAAAAAAAAAAAAAAAAAAAAAAAAAAAAAAAAAAAAAAAAAAAAAAAAAAAAAAAAAAAAAAAAAAAAAAAAAAAAAAAAAAAAAAAAAAAAAAAAAAAAAAAAAAAAAAAAAAAAAAAAAAAAAAAAAAAAAAAAAAAAAAAAAAAAAAAAAAAAAAAAAAAAAAAAAyMDIwOjEwOjAxIDE2OjM4OjE0ADIwMjA6MTA6MDEgMTY6Mzg6MTQAAABQAGEAYgBsAG8AIABBAGwAYgBhAG4AaQAAAP/hCx9odHRwOi8vbnMuYWRvYmUuY29tL3hhcC8xLjAvADw/eHBhY2tldCBiZWdpbj0n77u/JyBpZD0nVzVNME1wQ2VoaUh6cmVTek5UY3prYzlkJz8+DQo8eDp4bXBtZXRhIHhtbG5zOng9ImFkb2JlOm5zOm1ldGEvIj48cmRmOlJERiB4bWxuczpyZGY9Imh0dHA6Ly93d3cudzMub3JnLzE5OTkvMDIvMjItcmRmLXN5bnRheC1ucyMiPjxyZGY6RGVzY3JpcHRpb24gcmRmOmFib3V0PSJ1dWlkOmZhZjViZGQ1LWJhM2QtMTFkYS1hZDMxLWQzM2Q3NTE4MmYxYiIgeG1sbnM6ZGM9Imh0dHA6Ly9wdXJsLm9yZy9kYy9lbGVtZW50cy8xLjEvIi8+PHJkZjpEZXNjcmlwdGlvbiByZGY6YWJvdXQ9InV1aWQ6ZmFmNWJkZDUtYmEzZC0xMWRhLWFkMzEtZDMzZDc1MTgyZjFiIiB4bWxuczp4bXA9Imh0dHA6Ly9ucy5hZG9iZS5jb20veGFwLzEuMC8iPjx4bXA6Q3JlYXRlRGF0ZT4yMDIwLTEwLTAxVDE2OjM4OjE0Ljg0ODwveG1wOkNyZWF0ZURhdGU+PC9yZGY6RGVzY3JpcHRpb24+PHJkZjpEZXNjcmlwdGlvbiByZGY6YWJvdXQ9InV1aWQ6ZmFmNWJkZDUtYmEzZC0xMWRhLWFkMzEtZDMzZDc1MTgyZjFiIiB4bWxuczpkYz0iaHR0cDovL3B1cmwub3JnL2RjL2VsZW1lbnRzLzEuMS8iPjxkYzpjcmVhdG9yPjxyZGY6U2VxIHhtbG5zOnJkZj0iaHR0cDovL3d3dy53My5vcmcvMTk5OS8wMi8yMi1yZGYtc3ludGF4LW5zIyI+PHJkZjpsaT5QYWJsbyBBbGJhbmk8L3JkZjpsaT48L3JkZjpTZXE+DQoJCQk8L2RjOmNyZWF0b3I+PC9yZGY6RGVzY3JpcHRpb24+PC9yZGY6UkRGPjwveDp4bXBtZXRhPg0KICAgICAgICAgICAgICAgICAgICAgICAgICAgICAgICAgICAgICAgICAgICAgICAgICAgICAgICAgICAgICAgICAgICAgICAgICAgICAgICAgICAgICAgICAgICAgICAgICAgIAogICAgICAgICAgICAgICAgICAgICAgICAgICAgICAgICAgICAgICAgICAgICAgICAgICAgICAgICAgICAgICAgICAgICAgICAgICAgICAgICAgICAgICAgICAgICAgICAgICAgCiAgICAgICAgICAgICAgICAgICAgICAgICAgICAgICAgICAgICAgICAgICAgICAgICAgICAgICAgICAgICAgICAgICAgICAgICAgICAgICAgICAgICAgICAgICAgICAgICAgICAKICAgICAgICAgICAgICAgICAgICAgICAgICAgICAgICAgICAgICAgICAgICAgICAgICAgICAgICAgICAgICAgICAgICAgICAgICAgICAgICAgICAgICAgICAgICAgICAgICAgIAogICAgICAgICAgICAgICAgICAgICAgICAgICAgICAgICAgICAgICAgICAgICAgICAgICAgICAgICAgICAgICAgICAgICAgICAgICAgICAgICAgICAgICAgICAgICAgICAgICAgCiAgICAgICAgICAgICAgICAgICAgICAgICAgICAgICAgICAgICAgICAgICAgICAgICAgICAgICAgICAgICAgICAgICAgICAgICAgICAgICAgICAgICAgICAgICAgICAgICAgICAKICAgICAgICAgICAgICAgICAgICAgICAgICAgICAgICAgICAgICAgICAgICAgICAgICAgICAgICAgICAgICAgICAgICAgICAgICAgICAgICAgICAgICAgICAgICAgICAgICAgIAogICAgICAgICAgICAgICAgICAgICAgICAgICAgICAgICAgICAgICAgICAgICAgICAgICAgICAgICAgICAgICAgICAgICAgICAgICAgICAgICAgICAgICAgICAgICAgICAgICAgCiAgICAgICAgICAgICAgICAgICAgICAgICAgICAgICAgICAgICAgICAgICAgICAgICAgICAgICAgICAgICAgICAgICAgICAgICAgICAgICAgICAgICAgICAgICAgICAgICAgICAKICAgICAgICAgICAgICAgICAgICAgICAgICAgICAgICAgICAgICAgICAgICAgICAgICAgICAgICAgICAgICAgICAgICAgICAgICAgICAgICAgICAgICAgICAgICAgICAgICAgIAogICAgICAgICAgICAgICAgICAgICAgICAgICAgICAgICAgICAgICAgICAgICAgICAgICAgICAgICAgICAgICAgICAgICAgICAgICAgICAgICAgICAgICAgICAgICAgICAgICAgCiAgICAgICAgICAgICAgICAgICAgICAgICAgICAgICAgICAgICAgICAgICAgICAgICAgICAgICAgICAgICAgICAgICAgICAgICAgICAgICAgICAgICAgICAgICAgICAgICAgICAKICAgICAgICAgICAgICAgICAgICAgICAgICAgICAgICAgICAgICAgICAgICAgICAgICAgICAgICAgICAgICAgICAgICAgICAgICAgICAgICAgICAgICAgICAgICAgICAgICAgIAogICAgICAgICAgICAgICAgICAgICAgICAgICAgICAgICAgICAgICAgICAgICAgICAgICAgICAgICAgICAgICAgICAgICAgICAgICAgICAgICAgICAgICAgICAgICAgICAgICAgCiAgICAgICAgICAgICAgICAgICAgICAgICAgICAgICAgICAgICAgICAgICAgICAgICAgICAgICAgICAgICAgICAgICAgICAgICAgICAgICAgICAgICAgICAgICAgICAgICAgICAKICAgICAgICAgICAgICAgICAgICAgICAgICAgICAgICAgICAgICAgICAgICAgICAgICAgICAgICAgICAgICAgICAgICAgICAgICAgICAgICAgICAgICAgICAgICAgICAgICAgIAogICAgICAgICAgICAgICAgICAgICAgICAgICAgICAgICAgICAgICAgICAgICAgICAgICAgICAgICAgICAgICAgICAgICAgICAgICAgICAgICAgICAgICAgICAgICAgICAgICAgCiAgICAgICAgICAgICAgICAgICAgICAgICAgICAgICAgICAgICAgICAgICAgICAgICAgICAgICAgICAgICAgICAgICAgICAgICAgICAgICAgICAgICAgICAgICAgICAgICAgICAKICAgICAgICAgICAgICAgICAgICAgICAgICAgICAgICAgICAgICAgICAgICAgICAgICAgICAgICAgICAgICAgICAgICAgICAgICAgICAgICAgICAgICAgICAgICAgICAgICAgIAogICAgICAgICAgICAgICAgICAgICAgICAgICAgICAgICAgICAgICAgICAgICAgICAgICAgICAgICAgICAgICAgICAgICAgICAgICAgICAgICAgICAgICAgICAgICAgICAgICAgCiAgICAgICAgICAgICAgICAgICAgICAgICAgICA8P3hwYWNrZXQgZW5kPSd3Jz8+/9sAQwAHBQUGBQQHBgUGCAcHCAoRCwoJCQoVDxAMERgVGhkYFRgXGx4nIRsdJR0XGCIuIiUoKSssKxogLzMvKjInKisq/9sAQwEHCAgKCQoUCwsUKhwYHCoqKioqKioqKioqKioqKioqKioqKioqKioqKioqKioqKioqKioqKioqKioqKioqKioq/8AAEQgA0QQ2AwEiAAIRAQMRAf/EAB8AAAEFAQEBAQEBAAAAAAAAAAABAgMEBQYHCAkKC//EALUQAAIBAwMCBAMFBQQEAAABfQECAwAEEQUSITFBBhNRYQcicRQygZGhCCNCscEVUtHwJDNicoIJChYXGBkaJSYnKCkqNDU2Nzg5OkNERUZHSElKU1RVVldYWVpjZGVmZ2hpanN0dXZ3eHl6g4SFhoeIiYqSk5SVlpeYmZqio6Slpqeoqaqys7S1tre4ubrCw8TFxsfIycrS09TV1tfY2drh4uPk5ebn6Onq8fLz9PX29/j5+v/EAB8BAAMBAQEBAQEBAQEAAAAAAAABAgMEBQYHCAkKC//EALURAAIBAgQEAwQHBQQEAAECdwABAgMRBAUhMQYSQVEHYXETIjKBCBRCkaGxwQkjM1LwFWJy0QoWJDThJfEXGBkaJicoKSo1Njc4OTpDREVGR0hJSlNUVVZXWFlaY2RlZmdoaWpzdHV2d3h5eoKDhIWGh4iJipKTlJWWl5iZmqKjpKWmp6ipqrKztLW2t7i5usLDxMXGx8jJytLT1NXW19jZ2uLj5OXm5+jp6vLz9PX29/j5+v/aAAwDAQACEQMRAD8A+kaKKKACiiigAooooAKKKKACiiigAooooAKKKKACiiigAooooAKKKKACiiigAooooAKKKKACiiigAooooAKKKKACiiigAooooAKKKKACiiigAooooAKKKKACiiigAooooAKKKKACiiigAooooAKKKKACiiigAooooAKKKKACiiigAooooAKKKKACiiigAooooAKKKKACiiigAooooAKKKKACiiigAooooAKKKKACiiigAooooAKKKKACiiigAooooAKKKKACiiigAooooAKKKKACiiigAooooAKKKKACiiigAooooAKKKKACiiigAooooAKKKKACiiigAooooAKKKKACiiigAooooAKKKKACiiigAooooAKKKKACiiigAooooAKKKKAMi48QRW/iyz0JomMt1bS3CyA8AIVBH/j9Z/hfx1p/ijVtV02COSC6024eFkk/5aBW2ll9RmqGqf8AJZtD/wCwXef+hRVyVhpV3HoV14o0RSdS0nWr93RetxB5774z68EkD1AoA9CPi6ATa5H9nkzo4zIc/f8AlDcfnT/CPi2y8YeH01SxV4+qywyfejYdQa4bTtRg1ez8bajaOGiuYVdcH7v7sZB9wciktBL4Pj0fxPbj/iV6jax2+qoBxG2Pkmx7H5T/AL1AHUz+PoU8IJrkNjLL5l8bGOANgs/nmEc+mRmtHT9a1eaZ/wC0dE+xwJEzmTz93I7YwK81kEkvwdsPscirJJ4kBhkIyATqB2t7joa9JtrTXILa4bVtRhuYfs7AJHEFIOOucUAYsHxFnk0X+238P3X9kgktNGwZ1QHlyvp369K7O0uor2zhurdt0UyB0b1BGRXjFnceJrb4SRtiz/sRyY7lodxuFgZtrHBG3oTnnpmvYdIitodFso7Hm2WBBEfVdox+lAFWTX4o/F0GgmJvNmtJLoSZ4ARlUj/x8Vjy+NLzUNSurTwpo/8Aai2b+XPcSz+TEHHVVba24j6CqWr72+LlusB/e/2Bd7QOx8yLFS/CV4j8P4VTHnJdXIuBnkSec+7P40Aamh+MbbWbK/L28tpfacD9rs5vvxnBIx6g4OD7Vl6p8TLHSvCWia/cWc5ttWaPCryYgy7sn2ArLuP3nxb8QvZnMceiIt1t6bv3mwfX7351mWkST+CvhpDMiyRyFFdGGQwNqwIIoA9E1vxLa6P4XfXFU3NuEDqIz94GthW3IG9RmvF/Ectx4Z0DWvB+oOTasv2jSZm/jjJO6LPqpyfowr2aL/Up/uj+VAD6KKKACiiigAooooAKKKKACiiigAooooAKKKKACiiigAooooAKKKKAMm31+K48VXeiLEwltYUmaQ9CG7VX8UeJW8OpZLFZPeT3s4gijVtvJ9TWXp3/ACWDWf8Arxhqv8SUuZbrw2ljKsNwdRXZIy5A6dqAN+x1jU5IrmXVNI+xRwxlwRNv3YGcdBWVonjDV9esLO/tPDrLZ3ao6SPcYIRsc42+hzWiLbWLfSNROsX8V0pt22COMLt+U57VzXw0i8Tf8IPoDfaNPNj9kiIXDeZs2jA6YzigDT13xpqmgzJ5/h6SSGa4S2hkSf77scLxjjmt/Rr/AFC/hkbUtNNgykBVMm/cPyFYPxG/5B+if9hq0/8AQ67AdBQBk61r8WjXmmwSxNIb+48hSv8ACfU1n6v4ue31v+xdC09tU1NUEkqb9kcKnoXfBxnBwMHoapeOiP7c8LDPJ1EYHrwKg8BGNfFnjGOYYvv7R3tnqYivyfhkN+tAGroni1r7WZNF1mwbTNURPMWIvvSVM9UbAz+QqpefEK1s/Der6ubKZ00u6Ns8an5nIUHI/wC+qp+L9knxN8GJbf8AH2k8zyY6iHyZBz7biPxrmZzjwP4oI/6Dh/8AQEoA9KtfEtlfeEzr9kTLa/ZzOB0bAGcH0NXdJ1BdV0az1CNSiXUCTKp6gMoOP1rzXWWPga61Wyk+TQ9etppIG/ht7ooSU9gwyf8AgNd54OGPA+hg9Rp8H/otaANmiiigAooooAKKKKACiiigAooooAKKKKACiiigAooooAKKKKACiiigDA8Q+JZNG1DTrC1sHvbvUGdYkD7QNq7iScHtUGmeMo7vUrvTNQsZ7DUbWHzzDJgrKnPKN36eg7VleN/7Q/4Trwl/Y/2f7X5lzt+0khMeSc5xz0qhoZu7rxn4hbxR5Y1uzsgsKwH9yIHDcpnnJK859BQB0sXjnTf+ENg8RXYkgguAPLhxl3YnAUDuSTUVt4h8TXUkUo8LrFZyMPmlu8SqvqU2Y/DNef6c0cekfDWS+2ixW7YOX+6HMLhM/wDAsY98V6D4713W/DWhz6vpUFjPbWkRkmS4Zw5x/dwMfnQBpN4giXxfFoBibzpLN7oSZ4AVlXH/AI/TtS12LTda0rTpImd9SeREYdF2Ju5rjtXj1K8+L2nHSLuO0mOjTMzOgcFfMi4wR9KNStNbt/iF4TOsajFdxma4CLHEEKnyjzwKANDUvHGraXfWlrc+GpN97N5MBWfIZvf5eK6jSbu8vbPzdRsfsUu4jyt+7j1zgVzfjX/kZvCX/YR/9lNdlQBl32uRWPiLTNJeJmk1BZWRx0XywCc/nWTe+MLmXWrjSvDOlHVLi04uZHl8qGI/3d2DlvbFQeIj/wAXN8KgH5vJvOP+AJVf4VtjR9Xjnx9tTVrj7SM87t3U0Aa3h/xfHrFzd2F5Zy6fqlkN09pKc5Xsyn+JT64FZ2o/Eiy07wPYeJpbOd7e9nWERJyy5LDP/jtVdUIk+NViLU5eLSZDdbeyEvtB/wCBVgWSLL8MfA8cihkfVo1ZSMgg+bQB6LqPiS0svC51yH/SrUojoYz99WIAI/OtS3mFxaxTqMCRA4B7ZGa8h1wv4RsdX8KXTkaddYudKkfouZAWhH05wPQV6xpn/IIs/wDrgn/oIoAtUUUUAFFFFABRRRQAUUUUAFFFFABRRRQAUUUUAFZfiTW08OeHbzVpYmmS1TcY1OC3IGP1rUrk/ijn/hWes7cbvJGM+u4UAXNM1rWr27hS70E2tvIMtKZ923jI421a8Pa/F4gtbieGJohBcNAQ3cr3/Wq+iReJEeE6vPp8lv5YyIAwbOPcVk/DNlOl6tGD88epyq691OFP8iKANM+LoAuut9nk/wCJMR5nP+s4J4/KtjTb1dS0m0vo1KLdQJMqnqAyg4/WvO9we1+Ibocpv2ZHTIDZH4V2/hX/AJE3Rv8Arwg/9FrQAui67FrU+pRRRNGdPu2tXLH7xAByPzrVJwMnpXH+A/8AkIeKv+w1L/6AldDrqzt4d1JbTPnm1lEWP72w4/WgDnf+E1v9UuLkeFNDOpW1q5jkuZp/JR2HUJ8rbsfhV3S/Glnqfh+/1BYJoJ9ODC7s5RiSJlBJB/I4NQfDF4H+HOlfZsYVHDjuH3tuz+Oa5qceb4w8fvac240yNJtvQyiN/wBRzQB6Jpeopqmi2moxoUS6t0nVT1AZQcfrWDD4vvdQ8PWWr6Poz3UNyju6mXaY9px6HOcGrfhGaP8A4V5o0m9di6bDls8DEYzWX8OP+SU2B9YJCP8AvpqAJPDfjTUPEUMd2mgyW9ixcNM83K7c54x6j1puleMtW1uzS907w8z2kjsqSNcYJCsVJxt9QaZ8OP8AknY/66T/APoRrM+HNn4gfwfYyW2qQR2ZlmKwmEFgvnPkZxQM6DUvFtzb+JH0XTNJkvbiOATyN5mxQDjjocnmrnhvxPb+Iku0S3mtLuyl8m5tp1AaNsAj6gggg+9cpff24Pi1ff8ACP8A2Ey/2au/7YWA6jGNoNXfho32ldau7/d/bUl8V1FSMBXVQqhf9nYFI+vrQI6XxHrcfhzQLnVJ42ljtwCUXqckD+tVPEPiuHRJrWzgtZb7Ur0kW9pD1OOrMeyjHWqHxSIHw31TJxlU/wDQxVK2by/jhMLvAMmjgWm49RvXcB75zQBetfGd3ba1baZ4o0g6XJenbazRzebFI390thcN7YrSHiWE6xrGn+S+/S7dJ3bPDhlLYH/fNYPxY+fwzYwwnF5JqUAtcHnzN3BFQLkeMPG2ev8AZcGf+/T0AbvgvxpYeNdJe8sUeGSJyksEn3kPb8CMH8avaDrsWvQXckMTRi1untmDdyoBz+tecaek3hjRPD/jCxTNsbWO31WNV6xE8S/Vc5J9BXVfDWWOfSdWmgcSRSarMyOvRgVTmgDsqKKKACiiigAooooAKKKKACiiigAooooAKKKKACiiigAooooAKKKKAMufQLW48TWuuO0gubWCSBFBG0q5UnIx1+UUuiaFa6DZ3FtaNI6XFzLcv5hB+aRy7Dp0yTWnRQBzGm+ANH0mDWYbHzo4tYcvMgYYQkAHZxx0z361qpoVkPDg0SRTLZiDyCH5JXGPzrSooA5JfhzpUXgm38MW9zeQ2ltOLiGZHXzUcSeYOSuOD7Vd0/wtcWVwXn8R6tfRtG0ZhuWiKHPf5UBz+NdBRQBi2nhWwtPCcnh5TK9nJC8LFyC2GBB5x15q1BpItPD6aVa3c8Qjh8mOcEGRQBgHpjI+laFFAHO6D4Qh0bVbjVLm/u9T1CdBGbi7ZSUT+6oVQAOB+VVrrwJCNVuL/RNWv9GkujuuI7Nk2SN/ewynB+ldXRQBiaN4U0/RdMubW3Mssl5k3NzKwMsxIxknGP0xUMXgvTodO0KzWS48vQyDbEsMthCnzcc8HtiuhooAwfFfg/TPGFjDbaqJF8iUSxyREB1I7ZIPB71uqNqhR0AxS0UAFFFFABRRRQAUUUUAFFFFABRRRQAUUUUAFFFFABRRRQAUUUUAFFFFAHM6p4Kj1DxBJrFrrGpabdSxLFJ9keMBlHThkNNvvA6alplpa3mt6pJNaT+fFeb4xKG/74xj8K6iigDB0/wzNZmcXWv6pqEc0RjMd00ZUZ7jagOav6HpFvoGh2elWbO0FnCsMZkOWIUYGcfSr9FAGdrOiW2uQ2sd20ii1uo7pPLIGWQ5APtWgR8uBxx1paKAOZtfBaL4ii1jU9Wv9Tlt2c20VyyeXAWznAVR2OOSafrXgy11TV01ezvbvS9SVPLa5s2UGRP7rBgQR+Ga6OigDA0Lwja6NqE2pTXVzqWozLsa7u2BcL/dAUAAfhUT+B9Mk0q/sDJceVfXX2qU7hkPgDA46fKK6SigDK8ReHNP8T6DNpGqIz28qgZU4ZSO4PY1c02xj0zS7WwgLNFawrChc5JCgAZ9+Ks0UAFFFFABRRRQAUUUUAFFFFABRRRQAUUUUAFFFFABRRRQAUUUUAFFFFAGde6JbX2tadqczSCfTjIYgpG0712nPHoar3PhiyufEY1ovKlybV7VwjAK6NjqMdRzj6mtmigDnh4J0dvCMfhy4ie4solAQyN86kHIYEYwQRmsm5+HDXumNpl74o1qfT3G1oHeL5l/uk7M4rt6KAMoeH7QeJYdbDSfaYbRrRVyNuxmUnjHX5BT9Q0O21HVtN1CdpBNpzu8IUjBLLtOePStKigDN1PQrbVr7T7q5aQPp83nRBCAC2Mc8dKvzIZIXRXaMspAdeq5HUU+igDmtI8GR6frx1m/1S+1W9EZihe7ZcQqeoUKo6++abqPgiC51qTVdK1O+0e7nGLhrNlCzehYMpGfcYrp6KAMLQfCdloIuZElnu7y7Obi8uWDSSe3AAAHoBUcPgvToNE0nS0kn8jSrhbiAlhuLDdjdxyPmNdDRQBh+KvCWmeMNNjs9VVwIpVljkiOHRlOeD79D7GtmGJYLeOJM7Y1CjPoBin0UAFFFFABRRRQAUUUUAFFFFABRRRQAUUUUAFFFFABWfrujW/iDRLnS71pFguFCuYyAwwQeM/StCigBEUJGqjoowK5W88CxvrF1qOkaxqGkSXhzcpaMmyVsY3YZTg4AHHpXV0UAYNn4Q06x8MXGiQmbyboN58zMDJIzfecnGMn6VU0rwXNpJtFh8T61Jb2oVUt5HiKFV4CnEYOMDHWupooA5NvAYj1K+vNP8Q6vp/26czyxW7xbN5ABI3IT2Heuls7drWyit5LiW5aNApmmxvfHc4AGfwqeigDkZPAEUN9cz6HrWpaPHdNvmt7R08sserAMpwfpxWvonhnTtB0qSxtI2kSYkzyTHc87HqWPcmteigDiv8AhWsKW0thba9q1vpUzMWsI5E8sKxyyAlNwU5PfvXWW1hb2empY2sYit44/LVV7DFWaKAMzRdBtdC0YabaNI0OXOZCC3zEk9vesGy+HzabbC207xRrdtbK7MkKSQ7V3MWIGYyepNdjRQBmQ6DbQeIpdZDytcywCBgSNu0d8Y68U3TvD9rpmtalqVs8ok1J1kmjJGwMqhQQMeiitWigDmNW8FLrmqLPqmr6hPYrKJRp25BCSOgOF3EfjVvxF4VsvEYgkmkmtLy1bdb3lswWSI+xIII9iDW5RQBzGn+CYYNXi1PVdTvtYurcf6Obxk2w+6hVHPuc1of8I3Z/2nqt9vl83VIFgmG4YCqpUY464Y1r0UAZ1holnYeH49GCma0ji8krLzuXGMGq3hXwtY+ENHbTdLaVoGmab96wJBbHHQccVtUUAFFFFABRRRQAUUUUAFFFFABRRRQAUUUUAFFFFABRRTJZY4I2kmdY0UZLMcAUAPorjb74jWT3Mll4ZsrrXr1eCtquI0P+056D6A1BHY+P9cy1/qNj4fgbpDaobiTH++duD+BoA7mq81/aW/8Ar7mKP/ecCuT/AOFZ6fdYbWtV1XVT3Fzc/KfwAq1F8MvB0WMaFbsfVixP86AN0a1pjHC39sT7SirUc0cq5idXHqpzXOt8OvCLLhtCtSPof8aqTfCzwlJzBpv2V+z28hUigDsKK4pvAmqWG1vD3i3Urcr0jvcXEf0xlf51F/bvjbw+3/E+0SHWLRTzdaY+JMepiIx/49QB3VFYWg+M9E8RArp14BOvD28w2SIfQg/0zW7QAUUUUAFFRzzxW0LS3EiRRqMs7tgCuPvPiPb3E72nhPTrnXrtTgmBdsKH/ac9PwBoA7SiuGTTPH2uAtqWrWegwsf9RZRmaQD/AK6Erg/8BqX/AIVjpdywbWdR1TVW7i6ucqfwAFAHWTahZ25xPdQxn/acCol1nTGOFv7cn2lFYUXwz8HxY26FbE+rbj/WpG+HXhF1w2hWpH0P+NAHSRypKu6N1ceoOadXHzfCzwm/Nvp7Wb9ntpCrD+dRN4I1jT8N4e8XahDt6RX4FxH+WVoA7WiuEHiLxl4fbHiPQk1O1Xrd6U+Xx6mJgMf99Guh0LxdoviND/Zl6rSLw8LjZIh9CpoA2qKKKACiiigAooooAKKKKACiiigAoqG7vLaxt2nvJ44IlGS8jYArz/Vvi/YBng8L2M+sTqceYP3cIPux5/SplKMVdsTaW56NRnHWvEbrxN431gk3OqwaTEf+WVlGWYf8DJH8qy59G+3Nu1XUtQ1Bu/nz8fkBXHLHUY7amLrwR7zLqVlA2JrqFD6M4FMXV9Oc4W+tyfaQV4KvhfRl/wCXFCfVmJ/rTm8M6M4wbCP8z/jWX9o0+zJ+sR7H0EjrIuUYMPUGnV88r4a0+Fg1p9otXHRoJipFaFve+KdMIbS/E9zIF6RXyeav8xWkcfRe+hSrwZ7tRXlGm/FfVtPITxVonmQjrd6e+/8AEoQMfma9A0LxVo3iS3Euj30c/qmcMv1BrshUhNXi7mqkpbGvRRRVlBRRVe9v7XTrZri+uI7eJRkvI2BQBYorh5viHLqjmHwTo1xrLg7Tcv8Aubdfq5BP/jtCaD431kBta8RQ6VGTk22mw5YD080kZ/75oA7gnA5qrLqdjA2JruGM+jSAVyw+F2hzSeZqtxqGqv3N5c7v5AVbj+Gvg+L7ug22fU5P9aANxNY02Q4S+t2PoJBVtXVxlGDD1Brmn+HHhGRcNoNqR9D/AI1Ul+FnhjdusrabT5Oz2kxQj880AdjRXEv4P8R6b8/h/wAXXLADiHU4vtCn2yCuKiXxh4k0Djxf4dZ7det9pb+co92UhSv4ZoA7uiszRvEek+ILYTaRex3C91Bwy/UHkVp0AFFFFABRRRQAUUUUAFFFFABRRVTUdUsdJtWudSuoraFRktI2P/10AW6K4aTx9f6y3l+CdBn1EZx9sum8i3H0bBY/9806Pw34x1ZQ2veJxYqetvpcOwr7eYTz/wB80AdsSFGScCqsmq2ELbZbyBCOzSAVzC/C7w/I+/U2vdUfu15cF/5AVaj+G3hCL7mg2v4g/wCNAG5Hq2nytiO9t2J7CQGrasGGVII9RXMyfDfwhIPn0G1P4H/Gqknws8Nq+/T47rTZB0eznKEfnmgDsqK4l/CvirSyz6B4sknUDi31SHzs+28EY/I1GvjfWtCO3xp4ekghHH27T38+H6tkKV/AGgDuqKoaTrmm65ai40m8iuoz3Q8j6jqKv0AFFFFABRVHVda07RLRrnVbyK1iUZLSNj9O9efan8XnuiY/CGjyXw6farpvKi+o4JP5CplOMFeTsJtLc9PpCwUZYgD3rw+51nxjqrbtQ8QmyQ/8stPj2Y9txPP5VmS+H7a6ffqFzeXznq1xOTn8q45Y+jHbUxdeCPeZNVsImKyXsCEdQZAKI9VsJWAjvIGJ6ASA14KvhjRk6WEf4k/40N4Y0Z+thH+BP+NZf2jT7Mn6xHsfQgYMMqcj2pa+e4vD9vavv065vLFx0a3nIx+daVtrPjHSmDaf4g+2qP8AllqEe/PtuB4/KtI4+jLfQpV4M9yorzDTPi89sVi8X6PLY9vtVq3mxfU8Aj8jXoWl6zp2tWq3OlXkV1EwyGjbP6V2xnGavF3Nk09i7RRRVDCiiigAooooAKKKKACiiigAoqpqWrWGkWrXOp3cVtCoyWkbFee6p8X1nLReEdJl1Fun2mc+VD9QeSfyqZTjBXkxNpbnptISFGScCvD7nXfGerHN/ry2CH/llp8e0j23k8/lWZLoMF227Uru9v37tcTk/wAq45Y6jHbUxdeCPepNUsImIlvIEI6hpAKRNV0+RsR3sDH0EgNeCr4Y0ZOlhGfqT/jQ3hjRn62Ef4E/41l/aNPsyfrEex9CKwYZUgj1FLXz1H4etLZ99hNd2Tjo0E5GPzrSttW8YaUwbTvEb3Sj/llqEfmA/wDAgRj8q0jj6Mt9ClXgz3OivLtM+LtxZkR+LtGktV6fa7NvNj+pBAI/WvQdI13TNetVudJvYrqIjqjcj6jrXZGcZq8Xc2Uk9jQoooqxhRRVHVNa07RLVrnVbyK1iUZLSNj9KAL1FeYan8XnuiY/CGjy3w6farpvKi+o4JP5CududZ8Y6q27UPEJskP/ACy0+PZj23E8/lXNUxVKnuzOVSMd2e4FgoyxAHvVWTVbCJiJLyBSOoMgFeCy+H7a6cvqFzeXznq1xOTn8qF8MaMnSwj/ABJ/xrmeY01smZ/WInvUeq2ErYjvIHJ7CQGrQYMMqcj2r57bwxoz9bCP8Cf8aWLw/bWrb9OubyxcdGt5yMfnQsxpvdMPrET6Eorw221nxlpTbtP8QfbVH/LLUI9+fbcDx+VdHpnxee1KxeL9Hlse32q1bzYvqeAR+Rrpp4mlU2ZpGpGWzPT6KpaXrOna1arc6VeRXUTDIaNs/p2q7XSaBRRRQAUUUUAFFFFABRRRQAUUUUAFFFch4r8WXMF+nh3wvELrXblc5PMdoneR/wA+B3JoAueJ/Gdl4deK0jik1DVLg4t7C2G6Rz6n+6vucCsWPwdq/iuRLvx5esLfOU0i0kKxKP8ApoR98+xyK2vC3g618OxtcTSNfarcfNc303Lu3fH91fQDtXR0AV7GwtNMtEtdOtobWBBhYoUCKPwFWKKKACiiigAooooAKKKKAOf8ReCtG8SYlvLcw3if6u9tmMUyH2dcH8M1z51nxF4EZU8Rq+taJu2jUoEzNAO3mIOSPcA+9egU10SWNkkUOjDBVhkEUAQ2F/aapZR3mn3EdzbyruSSJgykfUVg+JvGtroVxFp1lC+p6xccQ2Fvy31c9EX3bFeb+NNVn8BeJJrX4ezZe6QvqFjtMkdoCP8AWoARhu+3pzXoHw+0vRItCj1TSZvt9xeDfcX0p3SSP3B9MdMCldN2C6KMPgnUvE0yXvj+9MyjlNJtXK26ez4x5n/Asiu2tLO2sLVLaxt4reCMYWOJAqqPYCpqKYBRRRQAUUUUAFFFFABXOeIvA2j+ImFxLE1pqC/6u/tGMUyn/fXBI9jxXR0UAcB/b+v+B5Eh8Wo2qaSW2Jq1vHl4h281FH/jwGPU13Npd29/aR3NnNHPBKu5JI2DKw9iKfLFHPE0UyLJG4wysMgivPr7Sb/4eX8mseG45bvQZCXvtKByYfWSL+ZX69KAPRKKqaVqlprWmQ3+nTLNbzLuR1NW6ACiiigAooooAK4vxh8RrPw9P/ZumwnU9XcfLbxH5Y/d26KPbOayPHfj6c3knhzwo4+2gf6Xe9VtVPYerH9K4/T9Ng06IiLdJK53SzSHLyN3JNcOJxcaPurVmNSqoaLcZfwaj4kuhd+LL1rw5ylmhxbx+23ox9zmrqIkUYSJFRF6KowB+FLRXh1Ks6jvJnDKTk9QooorMkKKKKACiiigArPudHhluheWcklhfLytzasUbPvj7w9jWhRVRlKDvF2Gm07o2tA+J97pE0Vj42RWgY7Y9UiX5f8AtoB9364xXqcM0VxCk1vIssbjKujZDD1BrxCSJJo2jmRXRhhlYZBrnYfFOseHprjRNAvJBobsBdz7TI1gCefLOf55xXtYXGe092e/c7aVbm0keza/44+zan/Ynhm1/tfWmHMSH91b+8j9F+mc+1VrL4fvqd2mpeOr1tYuxgraZItYT7R9GPuRmtrwlo+i6VocJ0ALJDOokNyW3POTzuZu5NbtekdAyKKOCJYoUWONRhUQYAHoBT6KKACiiigAooooAKKKKAOV134f6Zqt1/aGnNJo+qg5W9sT5bMf9sDhx7Nms628Xar4XvYdN8eQr5Mh2w6xbr+5c+kmPuH3IAru6gvLK21C0ktb2FJ4ZBhkcZBoAlSRJY1kiZXRhlWU5BHqDTq85K33wvvSyma+8JTMAVY7pNNJPXPePP4j14r0K3uIru2juLaRZIpFDI6nIYHvQBJRRRQAUUUUAFFBOBk8CvPtS1fUPHeqzaH4XmktNJtn2ahqqdXPeKLtnHVucZ6UAXtY8bzT6rJofg21GqamoxLP/wAu9r/vv0J/2Rk+1Jpnw8hlvRqfjC7bXtRzuCzjNvCfRI/uj64zXSaLoWn+HtOSy0q3WGJeuOWY+pPUmtCgBFVUUKihVAwABgCloooAKKKKACiiigAoIyMHkUUUAchrHw9sbi9Op+H55ND1UHd59p8qSH/pog+V/wAQaraf40vtG1KLR/HlullNJ8tvqUf/AB7XB9z/AAN7HHtXcVT1XTLDV9OltNWt457Z1IdZBxj69vrQBbDKV3AjbjOc8YrzrxT8T/JvZNJ8IwpqF8nEtyT+4tz7t0Y+wzXm+r+KtTs5rjw3pOqzS+E1mEf9pMMyp6xB+hX3xmteztLaytUhso1SIDjbzn3z3rgxWL9krR3MKtXl0RVfS31C+/tDxDdyareE5BmOY4/9xOg/KtHtgcAdBRRXhzqSm7ydzicnJ3YUUUVBIUUUUAFFFFAB1BB5B6is5dLksL77f4du5NKvAckwHEch/wBtOh/KtGirhUlTd4uxUZOLujqvC3xQE97HpPi2FdPvm4iuQf3Fx9G6KfY4r0YHI4rwi7s7e/tmgu4xJG3Y9R7g9q1vB/ja68KXcWjeI5nuNKlYJaXzn5oT2Rz3Hoa9vDYxVPdnudlOspaPc9hopFYOoZSCpGQR3pa9A6AooooAKKKCQASeAOpoAK8+8V/E6OxvH0jwvCupakvEkmf3Nv8A7zdCfYc1ieM/HN14ivZtC8LztBZQtsvdRTqx7pH7+prDsrG30+3EFpHsQde5Y+pPc15+Jxipe7HVmFSso6LcrzadPqt99v8AE14+qXWchZP9TGf9lOg+uM1oAAKABgDoB2oorxZ1JVHeTucUpOTuwooorMkKKKKACiiigArOOlG1vft+hXMmlXwOfMtztVz/ALadG/EVo0VcJyg7xdilJxd0dN4Z+KDreRaV4ziSyuXIWG9T/UTn3P8ACfY4r0kMpTcGBXGc54xXhd1awXlu8N3GskTD5g3+eK5r/hMNdisW0CHUJP8AhGvO2HUNpMqDvGG6bffFe1h8Zzxanujsp1uZanqnin4oeTeyaT4RhTUL5OJbkn9xAfdujH2Ga4R9LfUL7+0PEN1Jqt4TkGY5jj/3E6D8qtWdpbWVqkNlGqRAcbec++e9T159fGTquy0RhOtKWwdsDgDoKKKK4jAKKKKACiiigAo6gg8g9RRRQBnLpcmn332/w7dyaVeA5JhOI5D/ALadD+Vd54W+J4nvI9J8XQrp983yxXIP7i4+jdFPscVylQ3dnb39s0F3GJI27Ht7g9q7aGMnSdnqjeFaUd9j3YHI4orx7wf41uvCl3Fo3iOZ7jSpWCWl85+aE9kc9x6GvYFYOoZSCpGQR3r3adSNSPNE7YyUldC0UUVoUFFFFABRRRQAUUUyWVIIXlmYJHGpZmJ4AAyTQBz3jTxNJ4f02OLToftWrXz+TZWw/jc9z6KMjJp/hDwsvhuwle4l+1apeN5t9dt96V/8Bk4FYngy2l8TeILvxnqCnynJttLibpHCpIL49Wbdz6AV3lABRRRQAUUUUAFFFFABRRRQAUUUUAFch8QvGB8M6Slvp+JdWviY7WL09XPsOPzrqrq5hsrSW6uXEcMKF5HPRVAyTXg6XsviXXrvxLebv358uzjb/llCD29yf5CufEVlRhzdTOpPkjcXTNP+wRO0srXF3OxkuLh+Wlc9Sam0TWpPAWv/AG6Mt/Yt7IBfQDpCx480D+f0qamyxJPC0Uyh43GGUjgivBp15wqc/wB5wxm4y5j2+GaO4hSWF1eNxuVlOQRT68y+E+uPb/afCd/KXlsl8yzdjy8GcY/4DkD8a9Nr6SElOKkj0U01dBRRRVDCiiigAooooAKKKKACiiigDzq8gf4a+Iv7Rs8jwzqU2LyBR8tnKekoHZT0OPQV6IrK6BkYMrDIIOQRVfULC31TTp7K8jEkE6FHVh1BrkvAN3c6ZcXvg/VZWludK5tZXPzTWx+4fcgFVJ9aAO2ooooAK4X4keMZ9FtodH0NgdYvwQjD/l3TvIfpzj3Fddq2pwaNpF1qN2wWG2jLsSfTt+fFeGWMlzqt9deINTybrUG3Ip/5ZRfwKPTgAn3JrlxNb2ML9TKpPkiS6bp8WmWghiyzEl5JG+9Ix6sTVqiivnG3J3Z57d9QooopCCiiigAooooAKKKKACiiq99eR6fYTXcx+SJd2PU9h+JppNuyGZ2tX07zxaTpj4u7gZeQf8sU7sff0+lX9P02303T1s7dP3YHzZ6uT1J9c1R8P2LxW8l/ec3l6fMcn+Ff4VH4fzrYrSbt7iKemiJ/BfiFvBWux6XdSH+wtQkxCWPFpKx6eyk/qa9pBDAEHIPQ14Pf2UOo2MtpcjMcq4yOqnsR7iu/+F3iWXVtDl0vUn3alpTCGYnrIn8L/jg/lXs4LEOpHklujro1OZWZ3NFFFegdAUUUUAFFFFABRRRQAUUUUAMmhjuIJIZ0WSKRSrowyGBGCDXn+mGX4deJotFnkZvDmpSH7BI5yLSUnmInspJyPcmvQ6yvEmg23iXQLnTLzISZfldeGjbswPYigDVorlfAOtXeoaRNp2skHVtJk+zXf+2R0f6NgkV1VABRRWP4r1+Lw14budRkG50G2JB1dzwAKAOf8W6ne67raeDtAkaN5U36ndocfZof7oP95uB9Dmur0jSbTQ9Jt9O06JYreBdqKB+Z+pPNY3gXw7NoWitNqZ8zV9Qc3N9KTk+Y3O0ey5wPYV01ABRRRQAUUUUAFFFFABRRRQAUUUUAFeWfErxRNqV+fCeiztGpXOpXEZ+4h/5Zg+pH6Guz8b+JU8LeFri/PzTtiK3Tu8jcAD+f4V5DpNi9naM905lvLhzNcynqztyfwHQfSuLF1/ZQst2Y1anItNyZLC2TTxYrCv2bZs8vHGKyNOlfQ9SXR7py1rIM2Urdv+mZ+nb6Vv1R1jTV1TTnhztlX54XHVHHINeHCXSWz/q5wp9GXqKztD1H+0tNDScXELGKdfRx/iMH8a0aiUXF2YmrOwUUUVIgooooAKKKKACiiigAqK5tory1kt7hA8UgwynvUtFPYDd+GvimfT9QHhPW5zIAu7Tbhz99B/yzJ9R29sV6nXgOrWUt3aq9m/lXtuwmtZR1SReR+GRzXr3gnxIninwtbahjZMP3dxH3SQdR/n1r6DCV/aws90ehSqc613OgooortNgrzL4l+K7iW6HhTQpik8ybr64Q/wCoiP8ADn+83T6Guz8XeIYfC/hi61Oblo12xJ3dz0ArxrSbWeGGS61F/M1C8czXMh/vHnb9BnArjxdf2MNN2Y1Z8i0LNnaQ2FnHbWyBIoxgAfzqaiivnm23dnAFFFFIQUUUUAFFFFABRRRQAUUVR1nURpmmPOBulYiOJf7znp/j+FVFOTshpXdjP1WaXVtQ/sWxkKRgZvJl/hX+4D6n+tayWFsmnixWFfs2zZ5eOMVW0TTf7N08LId1zKfMnc9Wc8n8un4Vo1c5W92Oy/q42+iMDTpH0PUl0e6ctayDNlK3b/pmT7dvpW/VHWNNXVNOeHO2VfnhcdUccg0zQ9R/tLTQ0ny3ELGKdfRx/iMH8acveXP943qrmjRRRWJAUUUUAFFFFABRRRQAUUUUARXNtFeWslvcIHikG1lPeui+G3imfTtQHhPW5zIAu7Tbhz99B/yzJ9Rzj2xWFVHVrKW8tVezk8m9t3E1rKOqSLyPwyK68LXdGeuzNqVTkfke/UVz/gnxIninwtbahjbMP3dxH/ckXqP8+tdBX0e56AUUUUAFFFFABXGfEm+nOkWmhWBIutbuVtRt7R/elP8A3wGrs64oour/ABjywLR6LYceiyyEYP12MaAOtsLKLTtOt7O2XbFBGsaj2AxViiigAooooAKKKKACiiigAooooAKKKKAPO/jBqjroVpoNq5WbV5hE+DyIhy/5rkVyMUawwpFGMKihQBVvxpd/2n8VJ16ppVosIHo7/MT+TCq1eFj6jlV5exw15XlYKKKK845zPvbqTRdY0zxBbcPYzhZgP4on+VgfxIP4V77DMlxBHNE26ORQ6kdwRkV4XfW4u9PuLduRJGy/jjivSvhhqbap8O9MklOZIUa2b/tmxT/2Wvby+peDg+h24eV1Y62iiivTOkKKKKACiiigAooooAKKKKACuF8fI+i6vo3iy2H/AB53C215g/fglOzn6Myt+Fd1WX4m0xdY8L6lp7KGM9s6pns207T+BxQBpo6yRq6HKsAQR3FLXP8AgTUW1PwPplw/31iML/VGKf8AstdBQB5h8XtUa5l0vwxbtj7ZJ591g/8ALJO34sVrngAAAowBwB6UuvXH9p/EzW7zqtoqWcfsRnf+oFJXgY6pzVeXscFeV52CiiiuAwCiiigAooooAKKKKACiiigArB1oHUtbsNKH+qU/abgf7K/dH54rerD0Q/a9b1a/PP737Oh9l4P6itael5di46am506cCiiisiAqLSr8+HfH2maqG2294fsV36c8ox+mG/OpaztftzdaHcqnDoBIh9CpzW+HqezqqRpTlyyTPoGisrwxqn9teFNM1InJurWOVvqygmtWvpz0gooooAKKKKACiiigAooooAKKKKAOE13Phr4maXrMfy2esA2F3zx5gG6Nz9ArD/gVd3XMfEXTjqHge98sZmtttzEe6lGDH9AR+NbWjX41TQrG/H/L1bxzfTcoP9aALtcJrBPiT4oafo/LWWjRfbrodmlY4iH5CSu7rivh0gvm1zX2B36lfsI2PeJAAo+mS1AHa0UUUAFFFFABRRRQAUUUUAFFFFABRRSO2yNmPQDNAHj3xD1A658QbfTFObTR4/OkGeGmbhfyG6qNZ2lXJ1O41PWG5Oo3jyqf9jPyj9a0a+cxdRzrPyPOqyvNhRRRXIZGCV/svxgpXiDU0wR2Eq/4gj8q3qxPFimPR1vUH7yylWdfoOtbSOJI1dejDIrWesVL5fcW9UmLRRRWRAUUUUAFFFFABRRRQAUUUUAFXfh5qR0T4hXGlucWmsRedEOyzIcN+YYflVKs7VLg6bdaZq6fe0+8SQ/7p4I/UV14SpyVl56GtKXLM+gaKAQygjkHkUV9GeieQ/EzUzrHjax0KM5tdOj+13I7M54QfhhqzapW0/8AaWva3q55+13rCMn+4vAH5k1dr53GVOes/I8+tK8wooorjMQooooAKKKKACiiigAooooAKwZl/tTxhHCebfTY/MYdjI3A/Ibq3iQASeg5rD8K/v7G51Bh817cNJn/AGc8fzrWGicv61LjomzcooorIgKwSv8AZfjBSvEGppgjsJV/xBH5VvVieLFMejrex/6yylWdfoOta0tZcvfQuO9jbopEcSRq68hhkUtZEBRRRQAUUUUAFFFFABRRRQAUUUUAXvh5qR0T4g3GlucWmsRedEOyypw35hh+VexV8/apcHTrnTNXThtPvEkJ/wBk5BH6ivoEEMoI5B5FfRYOpz0VfoehRleAUUUV2GwUUUUAFcN4CnOoeKPGN8w/5iZtgT6RZT/2Wu5rgvhdxJ4rB6jxDfH/AMjvigDvaKKKACiiigDA8XeLbTwjpkN3drvM1xHCqbtv3nAJzg9ASfwqzc+KNGs7OC6ub+OOG4BMTtn5gOtZPxJD/wDCIeYkUkohvLWVxGhYhVnQscDk4AJqprHia5m163tbaeWy02az89LsWjSGZiWBjxj5cAA84+9QBa8T+Kv7Obw3dWN3D9gv78RzTHlTEYpG4P1UVsaf4k0nWVuF0i/huZIB86oeV/CvLIoRF4N8Gm6sbma2tdZ3SRNbksqCKQAlccYJFdbHNDrnxIj1HR4ZfItbBorq5aFoxITnbH8wBOMg+lAGh4Y8VRyeA9N1fxDdxQyXKnc54DNuI4H0FbsGqw6lpb3eivHe8HYA+0Mw7E445ryfS7e+sdP8FX00lxY2sFpcxSTC1M3lSM6ldyYyMgHnHGPevQfCGnQWzajfQajJfNfTh5Ga3MIVgMHC+/XNAEvhDW7/AFq0vv7WgigubS7aBkhbcvCq3Xv96ugrl/BcbpP4g8xHTdqjFdykZHlx8j1FdRQB4GkxvPFniS8bky3+wfREVf8A2WrlZukjbfa0Dwf7Tnz/AN9mtKvmcS71pep5tT42FFFFc5mA610/wYlI0nWrP+G11Fgo9NwD/wA2rmB1rovg5/rvE5HT+0F/9EpXp5c/3jXkdOH+Jnp1RXV1FZWktzcOEiiUszHsBUtMmXdBIuM5UjHrxXtnaYPh/wAa6Tr+hNqcNwkUcYYyqWz5YDEZPHfGanu/ENrP4b1G/wBFuobl7WB3BHIDBSRkfhXG6T4h/sr4Z2y2cG64jvGtp1kib/Rg0z/OwxnABBqCASPrPi4rdPfNNpS7plt/KWRghAxjhsZ60Adj4e8W6fqWmaWl1f2/9pXVpFK8KnHzMgJx+J6UaNrlzd+Jdds7xoltrBo/KIGCAd2cnPtXCTHSrv4Y+HNL0qzb+1Fa0MMSQMrwygqWc5HygHJJ7+9Saza6hLa+No7VJTMwt87FJLAFt2PWgD0mx13TdUeSPTbyK5kjHzKjdKwrzxLrWj6hYnWNKgSxvbtbUPDcbmiZjhSRt5B/DFUdIsrS+1zTtVh11JRYwNiGK0EWYipG1uAQBkHB7gVVttesvGXiiGa5uVt9L025/wBGt5FKvczjpIQRwoPT3z7UAei0UUUAFFFFAHFfDEtFpetWDZxY6xNCuewKRyf+1DXa1xvw+ObzxeR0/t98f+A1vXZUAfPPh67OpW13qTdb28kmP4mtaue8C8eDrMHqMg10NfL13erL1PMn8TCiiisSArN1PWrfS7q1hm63D7c/3RgnNaVY+unyrrTLhg3lRXOXYKTtBVhnitKaTlZlRSb1L02pWlvt86dU3DIz6VSvtUNrr1lC0qrbSwyO5Pcjbj+Zqtql7LcNqFszPDGIP3QWPcZ8rnr+OKqRfu9Q0Ke5iYpHaybnKE7DlcZreFJWu/P8jRRRtXmpxvod3d6fMrtDGxBHYj1qSPUYYtPtpbyVVeWNWPucc1jXS/aRrd3ao32eS12A7SPMcAcgdabEJrbUIZprh7aJ7ONI38reARnI9utHso2t/W2wcqsdDLcM1kZrIJMSuU+bANQ6PeSX+lx3E6qsjFgwXpwxH9KbpltHbaW6wzNMjlnDFdvXsBUfh1WXQ4gwKnfJwRj+M1k1FRdu/wDmQ0rM0ZG2xO3opP6Vi+EFz4fWU9Z5pJD75Ymti4/49Zv9xv5Vk+EP+RVsv90/zpL+G/VfqH2TaooorIgKbKoeF1PRlI/SnUHofpTA7j4PztL8N7NG/wCXeWWAewRyo/lXcVwHwZ/5ENj2OoXWP+/rV39fVx1ij1VsUNb1i20HRrnUr1gsUCFjk4z7VT0/xbpF/wCH4dX+1xx27ohck58tmAO08deaseJYzL4X1JFQuxtpMKBkn5TXIJ4lMHhTwvBpxWJLmJIJruSEkWjLGOqkdcjHPGaoZt+KfFAs/At5reg3EE7QgbHI3L94A56eta1n4g0q+vWs7S/hluUGWiVuRXlV7Gz+BPHESGW7V7sPn7OY/NJK5ITHOQO1b+stpmp6z4Wh8NW/+lWtxvDRwlPs0IQhgxIGARxj1PSgDovDPiKW/wBP1O61eWGNLS8eJXA2gIADzz15rVtdZtNTs5ptGnivWjGAqvgFuwJxxXl1zb3LeGp2CyJbR+IhJcnyS+IxtyxTHzKPTmus0qG1tNZvPEkuuLdpHabJkitwgIyCGOOpGCB9TQBbt/Eer2niSw0vXtOhhXUg/kSwT79rKpYqRgdh1/SuqrgPDerW3ivxLFrt9cJGIw8emWJBDoDkNIwxwzDPHpjvxXf0AFFFFAFXU4Rc6TeQHpLA6fmpFc98Mp2n+Hem7+TC01vz6RzPGP0Wuol/1L5/umuT+Fv/ACT+D/r+v/8A0smoA3vEV/8A2X4X1XUP+fSzmn/75Qt/Ssn4cQfZ/h3pCkYZodx+pJNS/EIE/DLxQF6nR7vH/flqm8FkN4J0kjp9mWgDcooooAKKKKAOa1PxvpuleMLPQbllV7iB5WkLfcIKhRjHOcn8q0LrxPo1lqIsLrUIYrksFEbHByeg/GsLxBcrp/xL8P3dykot2tLqHzUiZwrsYtoOAcZwevpXNeKdYv8AWNM1i3vmuIDb3qxw2EVmXLqko2yb8dCAG68UAdPc+L00v4g32n6reQ2+nxadBPHvHJdpJA3P0UVL4n8VLH4Hk1nw7dwzjzYVSUfMpDSqp/QmsKO6ttM+KrX+qW83ltodskdyIGcI2+TcMgHBIIrLvbSW58GeJL2ytJo7O/1SGW1iMRDMBOpaTZjIDdeRnjmgD0jUfEmkaRMsOpX8NvKy7trHnHrUXiLUtQs9Be80O3gupAu7Msu1QvXd05+lcSyXFj4y8Sx6lqM2nxX7o8R+wees0Xkqpw2DjkEbfaush01NL+HhsLaaW6SK1ZUkdSGfqen40Aauh37ap4fsL+RQr3VukrKOgLKD/WoPE94dP8K6ldjrDbu/5CmeEFZPBWjK6sjCxhBVhgg7B1FVPiEpb4da6FGSbKTH5UAeP+G4Ps/hnT4u4gXNadVNKwdHs8dPJX+VW6+Um7ybPKe4UUUVAinrEIudEvISM74WH6VF4emNx4bsJW5LQLn8qt3mPsM+enln+VZvhP8A5FPTv+uIrX/l0/Uv7JsVS1XVIdJsjc3HIyABnGau1leJUL6DNhS20qxwM8ZpU0nNJijZtJlw6jaLAszXCCNvut2NVdV1JraKxktnQpPcLGzHkbSeaiutSR7y2hgdI4JULi4Me4f7oGOtYYTfoVmsqNJGmp8jZ/Dn0reFJaNlxj1OrF9bzRTG1mSR41JIB6cVW0rUvP0OG8vpEQtu3HoOGI/pVG68q616GXThlYreQTuq4GCOF96oWqzJpujyM/lQIZNzNHuCtuOCR+XNCpRcf68x8qsdR9p861MtiUnPRfmwM1VtNQuTqTWGoRRpMY/NRo2yrDOKrW0tvpsN7qM14J43ILCOPABGegHc5/Sl0i4gvbx7ySdGupUwsQz+7T0+vrUciSemhNrJmzRRRXOZhWfr0Qm0G8Q/888/kQa0Kq6p/wAgi7z/AM8mq4O0kxrc9l8K3bX/AIO0a8c5a4sIJSfdo1P9ak8QX39meGdUvx/y62cs3/fKE/0qh4ByPht4Zz1/sm1/9ErS+PQT8N/EoXqdJusf9+Wr6s9U8b8Nps8O2hPV1Ln6kmtOqGgnPh+xx/zxFX6+UqO836nly3YUUUVBIVmXOuW9rrEWny8NIhYt6YxgfrWnWPfuLfxNYTyhhEYZI94UkBiVwOK1ppN2fZlRSbL8moWsVwIJZlWQnGD61QfVvs/iO4trmVUtkt0dQR/ESwP8hWdq93PeWN9FIZInimCpbrFncAww2fwzU0UiW3it7m6RlT7DEol2EgHLZHFbKkkrvt/kaKKSLur6p5eh/bNOmVsyIoYcjBYA1en1C1tWVbiZUYjOD2rmruF30fUZoo2EFxeI8SbSCRu5OPerG2S31TUFvLtrdZyCh8neHTaBjP8ASn7KNrf10DlRs6jcz2+nvPZokrKu75m4x61LYzm60+3uHADSxK5A7ZGaqPbC28NPbxu0oWEhWI5b8Km0gEaJZAggiBMg9vlFYNLk07kO1g1eY2+i3kw4KQsR+VQ+Hofs/huwjAxiFc/lSeJOfDGo/wDXBv5VY0r/AJA9njp5K/yo/wCXXzD7JbooorIgKp6xCLnRLyEjO+Fh+lXKhvMfYZ89PLP8qqLtJMa3Knh6Y3HhuwlbktAufyrRrH8J/wDIp6d/1xFbFVU0m/UcviZS1XVIdJsjc3HIyABnGakOoWi26zNcII2+63rVPxIhfQZsKW2lWOBnjNMutSR7y2hgdI4JYy4uDHuH+6B61cYKUU/UpRTRLqupNaxWUls6GOe4SNmPI2k81aW+t54pjazJI8akkA9OK5QJu0KzSZHljTU+QU/hznp6Vp3XlXWvQy6cMiO3kE7quBgjhfc1q6UUrepTgjQ0vUfP0OG8vpEQtu3HoOGIq19p861MtiUnPRfmwM1y9ssyabo8jP5UCGTezR7grbjgkflzWrbSwabBe6jNeCeNyC3lx4AIz0A7nP6VM6STbXf9dhOKLNpqFwdSNhqEUaTGPzUaNsqwzitGsbSLiC9vHvJJ0a6lTCxDP7tPT6+tbNZVFaVrEy0YUUUVkQZ+vRCbQbxD/wA88j8CDXtfhW7a/wDB2jXjnLXFhBKT7tGp/rXjWqf8gi7z/wA8mr1rwCCPht4ZB6/2Ta/+iVr2ctfuyR2YfZnQUUUV6p1BRRRQAVxHguFdO8beMLAcb7xLtR/10XcT+bV29cTfyf2N8XtPuGXEGsWb2pbt5qfOM/8AAUIoA7aiiigAooooACARgjIpvlpgDauF6cdKdRQAm1f7o/KhVVRhVCj0ApaKAE2KV2lRt9McUKqouFAUegFLRQAAAdBiiiigDwaSD7D438TWR42Xiyr9HjVv5mrNXvH9n/ZnxOhuQMRarZ7SexkTP/soFUa+dxkeWs/M8+srTYUUUVxmIV1XwZgP/CPanfkcXuoSMvuEOz/2WuK1S5FnpNzOTgrGQvuTwP1Ner/D3STovgLSrRxiQwiaQejOd5/VjXrZbHWUjrw63Z0lFFFewdZF9mgw48mPEn3/AJB8319aVbeFFwkMajGMBQOPSpKKAI1toEl8xIY1kxjeEAOPrTgiBmIVQW+8QOtOooAhS0tomZo7eJGf7xVAN31po06yDhxZ24YHIYRLkfpViigAooooAKCQASeg60Vh+NNVGjeDdTvAcSCBo4sd5H+VB/30RQBj/C9Gfw/qF+3/ADENTnuB9Btj/wDaddpWN4Q03+yPB+m2eMMkAZwf7zfM36k1s0AfPukWn9mTappmMfYr6WMD2zx/KtKpfFVv/ZfxS1CEjbFqUCXMfuy8P/6EKir5vFx5a0jzqqtNhRRRXKZBQQCMEAj0IoooATAOMgcdOOlG0eg/KlooAMADAAx6YpCARggEehFLRQAAY4AwKAMdBiiigBHG6Nl9QRWJ4RO3RXtz1t7iWM+2GNblYelj7F4n1SyPCz4uY/fP3v1Nax1hJfMtbNG5RRRWRAUydxFbSyHoqE/pT6zPEMrpo0kUHM1yywRqO5Y/4Zq4RcpKKGld2PT/AISWrW3w101nGDchrn/v4d39a7SqOi6cukaDY6dH921gSEf8BUD+lXq+qWx6odetQ/ZLbyjF9ni8tjkpsGCfXFTUUwGeRFtI8pMHqNo5pEghidnjiRGb7zKoBP1qSigBoijClQigN1AHWo0s7aNGSO3iRG+8qoAD9amooArpYWcUgkitYEcdGWMAj8asUUUAFFFFAFLWbj7LoV9cE48q3kf8lNYnw3tWtPh5pSvwZUe4P/bWRpP/AGeofiXfNbeD3s4CftOpTR2kKjqSzAt/46GrptPtE0/Tbazi+5bwpEv0UAD+VAEesWK6nod9YOMrdW0kJHsykf1rB+Gc/n/DvSgTloozG3sQxrqq4nwJJ/Z2veI/DzrsNtefaoQf+eUowuPxRqAO2ooooAKKKKAEZVb7wB+oo2KWJKjJGCcUtFADSiMMMqke4pdoK4IGPTFLRQA1kR8b1VsdMjNOwMYxxRRQAAYGBwKz9es/7R8P31oeRNAyfmK0KRhuUg9xigD578LymbwvYM33hCFb6itWqVta/wBk69rWjkbRaXjNEv8A0zckr/KrtfL148tWS8zzJq0mgooorEgoa7cfZfD99Mf4YWx+VLodubXQbKE9UhUH8qo+Kc3Fnbacv3r2dUI/2f4v51uABQAOgGBWr0ppd2X9kKCARgjI9DRRWRA3yo9oXy02joNowKXYv91euelLRTGIqKgIRFUHrgYzRsXbt2rt/u44/KlooEM8qPZs8tNv93aMflQkMUbZjijQ+qoAafRRdjCiiikIKzfEMvk+H7tu7KFH4kCtKqVzbf2rr2i6Mo3fa7tWkH/TNep/MitqEearFeZcFeSR7b4fsjpvhnS7E8G1s4of++UA/pUur2Q1LRb6xcZW5t5ISPZlI/rVuivqD0z578NsT4ft0b70RaMj0IJrUqtJb/2V4x1/SSNoS5+0Qj/pm/TH4qas18xiI8lWSPMqK0mgooorAgKCAeoB+ooooAQqCckAn1xQVB6qD9RS0UwDAIwQMemKQqG+8oP1GaWikAY/Kjp0oooAralB9p0u5h/56RMv6VU8Mz/aPDNg/fyQD9RWpWH4a/0U3+mt1tbglB/sN0/lWq1ptFr4WblFFFZEBVDXbj7L4fvpj/DCxH5VfrD8U/6RZ22nL969nWMj/Z7/AM60pq80VHVl7Q7c2ug2UB6pCoP5VeoACgAdAMCipk7u4nqwIBGCMj0NN8qPaF8tMDoNowKdRSEJsX+6vXPShURAQiKoPXAxmlooGJsXbt2rt/u44pvlR7Nnlpt/u7Rj8qfRRcBiQxRtmOKND6qgBp9FFAgooopAZviGXyfD923dlCj8SBXuXh+yOm+GdLsT1tbOKE/8BQD+leJXNr/a2vaLoy8/a7tXkH/TNOp/Mivfa93L42pN92d2HVo3CiiivROgKKKKACuU+ImkTal4YN3Ygm+0uRb23I6kocso/wB5Qy/jXV0EAgg8g9aAM/QdWh1zQbPUrcgpcRhuOx6EfgQRWhXn+jO3gfxtNoVydukau5n05z0ilP34v5Ee7GvQKACiiigAooooAKKKKACiiigAooooA4b4saJLqXhL+0LJS15pMgu4wOrKvLr+KgiuCtLmO9s4rmEgpKoYEV7qyq6lXAZWGCD3rwnVNKfwd4un0eQEafeEz6fIeg/vR/hwfxrzcfR5o866HNXhdcyJ6KKgvb2HT7KW6uW2xxrk+/tXiJNuyOMjisH8SeL9L0CIExb/ALXeEfwxp0H4sVr3pVCqFUYAGAB2rg/hb4bm07SZta1WLZqWqESMh6wx/wAKfrzXe19LhqXsqaj1PRpx5Y2Ciiiug0CiiigAooooAKKKKACiiigArhPFmfEvjbSPDMJ3W9qw1DUMHoq8xqfffsP0rqPEOuWvhzQ7jUr1sJEvyqOrt2Ue5rF8A6LeWlhcazrakavq8n2idT/yxU/ci/4CuB+FAHWjjpRRRQB518XtGkk0mz8Q2aFrjSZd0gHVoW4YfmQfwrkopUmhSWIhkkUMpHcHkV7bdW0V5aS21woeKZCjqe4IxXhDadP4V8Q3Phy9yY1JlsJT/wAtISc7fqvI/CvLx9HmXtF0OavC65kXKKKK8U4gooooAKKKKACiiigAooooAKwvEStZXNlrMQJ+yvsmA7xtwfyJz+FbtMnhjubeSCZd0cilWHqDVwlyyuUnZjldZEV0OVYAg+opaw9BuJLSeXRL0/vbf5oGP/LSI9Py5FblE48rsJqzCneFdOPiP4j20eN1noq/aJjjgytwg/INVHVNQGnWRlVDLO5CQQjrJIeFUfjivUvh74XPhjwyiXWGv7pvPu5PVz2+grvwFHmn7R7I6KELvmOqooor3DtCiiigAooooAKKKKACiiigAoorn/GXiT/hG9CaaCI3F/cN5NnbL1llPQfSgDEmB8U/FWKNTusPDiF3IPDXLjC/ku8H613dc/4L8PP4c8OxwXcnn387Ge8nP/LSVuWP0zXQUAFcJ4uX/hHPGmkeKl+W1lzYagewVsFHPspDD/gVd3VHWtJt9c0W6028XdDcIVPt6H86AL1Fcb4B1i68mfw1rj51bSMRszcfaIuiSj6jGfc12VABRRRQAUUUUAFFFFABRRRQAUUUUAeSfFHTTpHirT/EUYxbXg+x3Z7BuqMf++SPxrKr1zxJodv4j8PXel3Qyk6YU/3WHIP4ECvE9MkuYJJ9J1VSmoae/lSg/wAaj7rj2Iwa8fMKOvtF8zkxEPtI0KKKy9e1F7KzWC1G69uj5UCjsT1b6AZP4V5cYuTsjlSu7FWzb+1vFU92ObfT18iI9i55Y/kRW9VTS7BNM02K2TkqMu395jyTVuqqSTemyHJ3egUUUVmSFFFFABRRRQAUUUUAFFFFAB1rW+F2lnV/FWoeI5Rm2tF+xWZ7E9ZGH/jtc1qbXdzJBpGkjdqOoN5UWP8Almp+859gMn8K9r8OaHb+HPD9ppdoMJAgBPdm7k162X0dfaP5HXh4faZqUUUV7B1nlPxY0s6brWm+KIlxF/x53hH908ox+mG/OsWvYdc0i317RLrTb1d0NxGVPt6GvDtPS7026uNB1Yn7dp52bj/y2j/hcfUY/OvIzCjtUXzOTEQ+0jQoooryDkCiiigAooooAKKKKACiiigArA1InSvElrqXS3uh9mnPYHqpP5Y/Gt+q2o2Ueo6fNay9JF4P909QfzrSnJKWuxUXZlmisjQNQkuLd7K9+W9sz5coP8Q7MPqMVr1MouLsxNWdgrAs2/tbxVPdjm309fIiPYyHlj+RFW9e1F7KzWC1G69uj5UCjsT1b6AZP4VZ0rT00zTYrZOSoy7f3mPJNaR92HN3KWiuW6KKKxICiiigAooooAKKKKACiiigAo60VQ1J7q5kg0jSRu1HUG8qLH/LNT95z7AZP4VcIOclFdSopydkdL8LtLOr+KtQ8SSDNtaL9itD2J6yMP8Ax2vWqy/Dmh2/hzw/aaXaDCQIAT3Y9ya1K+npwVOCiuh6UY8qsFFFFaFBRRRQAUUUUAY/ijw5b+KNDksLh2ifIeCdOHhkH3XU9iKyPB3ia6nnl8PeJtsOuWQwx6Ldp0Eieo9R2zXX1z3irwnB4jt45opWs9TtTvtL2Lho29D6qe4NAHQ0Vxnh7xnPHqK+H/GMK2GsqMRSdIr0f3oye/qOcV2dABRRRQAUUUUAFFFFABRRRQAVgeMvCtt4t0F7KY+XOh8y3nH3opB0IrfqrqWp2ej6fLfalcR21tCu55JGwAKNwPCra6ubW6uNM15VtdSsx++BOFkUf8tFPcHrWv4K8NyeNdYj1W/hK6FYyZt0cf8AH3IP4sf3R+vNWtc8N3nxfuI9RghOkabagtZ3EiES3p7bh/zyPp39a6rwn4sjhuI/DGvWa6Rq1ugWOEDbFcKP44j3HqO1cVPBwp1HNfIxjRjGVztAMDAooortNgooooAKKKKACiiigAooooAKjubmGztpLi6lSGGNSzyO2AoHUk1W1bV7HQ9Nlv8AVblLa2iGWdzj8K4iO01H4l3UdxqkM2n+F0IeK0bKyX3oz9wnt3HfmgB2mQT/ABD8Qxa3fI8fh7T5M6fbOMfaZB/y2Yeg6DPqa9CpkMMdvAkMCLHGg2qijAAp9ABRRRQAVy3jzwenizR1Fu4t9StG82zuP7rjsfY9DXU0Umk1ZhueBafeyTNLaX0RttRtW2XFu3BB9R6g+tXa7zx14Bj8RhdS0pxZ61bj93MB8so/uOO4rzW3v5Vv5NM1e3aw1SH/AFlu/wDF/tKe4rwcVhXSfNHY4KtJx1WxeooorgMAooooAKKKKACiiigAooooAzNa0x76KOezcRX1sd0En/sp9jSWGu29zp0s92Ray24xcROcFD/X2q3fahbabbGe8lEaDgerH0HqaWy+GOteJpB4lmjXT5ocPZ2E6nFwBz++HH4dMV24ejKuuV7LqbU4Oeh0Pw68Kz6zqUfirXIDHBFn+zbaQcgf89SPU9vbFer1y/hXxla61I+l3dudM1i0G2ewlGCuP4k9VPY11Fe9CEacVGJ3xioqyCiiirGFFFFABRRRQAUUUUAFFFZXiHxJpvhjTTe6tOI0ztRBy0jdlUdzQBZ1XVbPRdMmv9SmWG3hXczMf0HqT0ArkfDGmXviXXV8X+II2iRQV0qyf/lhGeshH95v5AVHp+hal401SHWvF8DWunwMHsdIY9D2eX1bvjoK74AKoCjAHAA7UAFFFFABRRRQByPjPw7e3M1v4g8OOI9a04EovQXMf8UTfUdPfFavhfxLa+J9JW6t8xTodlxbPw8Eg6qw/wA8Vs1xniPwtfWuqHxH4OKQ6oo/0i1Y4ivVHZh2b0YfrQB2dFc94X8YWPiWOSJUez1G3+W6sJ+JIW9x6e9dDQAUUUUAFFFFABRRRQAUUUUAFcB8SPBs+pCPxBoMYOrWaYaMcfaY+pQ+/XHvXf1ieJfFmm+FrNJb9y88zbLe1iG6Sd+yqvc1MoqSsxNJqzPFxr9l/ZDX7sUCHa0RHzq/9zHXNQaPZXE902saom25lXEMR/5YJ6fX1rc1b4aa7rN5L4yNvDb6gWDpoyj92UHdv+mnPX9Ko2GpxX5kjCvDcwnbPbSjDxN3BFeHiMO6C93Z9f0OKpTcNi5RRRXnnOFFFFABRRRQAUUUUAFFFFABVXUNQh021M02WYnbHGvLSMeigd6bf6nFYGOPa89zMdsNtEMvK3oBXZ+B/h7Ml6niDxaivfgZtrPOY7Uf1b3rsw2FlWd3sbU6Tm/ItfDfwbPpivr+vKDq16vyxnn7NF2Qe/r7k139FFfQRioqyO9JJWQUUUVQwrhviN4Ml1yCLWNFwmsWAJTsJ07xn69vfFdzRSlFSVmJq6szwTTtQj1C3LqDHNGdk0LDDROOoIq3XW+OPh9JeXZ17wuEh1RR++gPEd2B2Po3vXC2OppeSS28sb2t7AcT2sow8Z+lfP4nCyou62OCpScHdbF2iiiuIxCiiigAooooAKKKKACiiigDH1mwuBMmq6WM3tuuGT/nsndT7+lSL4gsW0c6iZNqLw0Z++H/ALuPWrN/qcGnKnm7pJpW2wwRjLyt2CikHwl16eE+KWWNNR3B10g/cKe/+37/AKV3UaMq0dVt/VjeEHNFHR7K4uLptY1RNtzKuIYj/wAsE9Pr61tVTsNTh1AyRhXhuYTtntpRh4m7girlctTm5rSVjKV76hRRRWZIUUUUAFFFFABRRRQAUUVTv9TisDHHtae5mO2G2iGXlb0AqoxcnZDSbdkO1HUIdNtTNNlmJ2xxqMtIx6KB3ru/hv4Nn0xX1/XlB1a9T5Yzz9mi7IPf19yaq+B/h7Ml6niDxaivfgf6NZ5zHaj+re9ek172FwqpLmlud1KlyK73Ciiiu43CiiigAooooAKKKKACiiigDL1/w7pnibTWstYtlmiPKnoyHsynsR61ymfFngdsBZPEuiL0wcXcA/Hhx75B9q7+igDD0LxjoniGMf2feqJv4reYGORT6FWwfyrcrB1zwVoXiBvNv7FVue1zAxilH/A1IP61ip4W8W6IR/wj/if7ZAv3bbVYg4A9N6gMfxNAHcUVxY8Q+NLAEaj4SS9C/wDLSwulAP0ViTSL8RXQ7bzwn4jhbv5emTSj81U0AdrRXGn4kW+Pl8N+JyfT+w7kf+yUxPHerXZxpvgrWJM97mP7MP8Ax8CgDtaZNNFbxGSeRIkXqzsAB+JrjWuPiHqm5YbPS9EjPRp3M0g/75OP0psXw3F/Ms/i7W7/AFuQf8smk8mEf8Aj2hh9c0ASal8RIHujp/hKyl13UM4xCNsMZ9XkPGP93NRWHge71i9i1Tx5drqFxGd0NhHn7Nbn1AP3j7kCuvsdOstMtlt9OtYbWFeiQxhB+QqzQAgAVQFGAOgFZXiHwzpnifT/ALJq1uJFBzHIvDxt/eU9jWtRQB5/9p8WeB2C3cUniXRV4E8Z/wBKgX/aU8OPfOfaum0TxdoniGMHTL6N5P4oZMpIp9CrYNbVc/rngfQdek867shFddRdWrmGUH/fQgn8aAOgorh08NeMdEIGheJUv7delvqsQbHsGQBj+JqQeI/Gdip/tLwh9rx1ksLpMH6KSTQB2lFcUvxFZDi78KeI4m7hNLmlH5qhpx+JFvj5fDficn0/sS5H/slAHZ0VxSeOtYuzjTfBWrye9yv2cf8Aj4FDS/ELVQVjt9L0SNu8jGaUfTBK/pQB2M9xDbRGW5lSKNeruwUD8TXHah8Q0ubltP8ABthLrl90LoNlvEfVpD2/3QaSH4bxXs4uPFmsX+uyjB8uWTyoh/wCPapH1Brr7OxtdOtlt7C2itoV+7HCgVR+AoA5HTfA0+oX8Wr+OLsapfxndDbL/wAe1sf9lT1P+1gV2oAAwBgCiigAooooAKKKKACiiigArB8UeDtJ8W2ixanDiWPmG4j4kiPqDW9RRuB4drPh3xJ4RkJu4G1nSx927tx+9jH+2nf6gmq1nqVnqC5tJ1c90PysPqDzXvVcr4g+HHhzxC5mnshbXR5FzaMYnz6nbjP45rz62BhPWOhzzoRex5zRWtdfC3xHp7H+xdeivYh0i1CMbvpuUD9ayrjQ/GliD9p8NfaVH8dpcK2f+A5JrzpYGtHZXMHRmhKKpNc6vG22bwnr4P8AsadK4/MLSfbdTP3fCviIn30qYf8AslZfVq38rI9nPsXqKigs/FN9/wAeXhO+Ge90RD/6FitS28AeNdQ/4+Z9P0mM9Qo82QfjkitI4OtLpYpUZvoZss0VvGXnkWNB1ZzgVUtLjUdfuPsvhTT3vXzhrmQFII/ck8n8Aa77SPhBotrKtxrk9zrVwDn/AEl8Rg/7i4U/iK7u2tbezgWG0gjgiUYVI0CqPwFd1LL4rWbubRw6XxHEeFfhja6XdR6p4gn/ALV1VeUZ1/dweyL/AFrvOlFFenGKirI6UktEYPiXwfpvieONroPb3kB3W95AdssLeoaueGveJvBsgh8T2jaxpYOF1SzXMiD/AKaR/wBQTXf0EZGD0pjM3SPEWk69AJdJv4bgH+FThh9VPI/KtKuX1j4e6Dq05uo4H0696i6sJDA+fU7SA345qgmi+OtF40zXrXV4FHyx6nCFcewaML+tAHb0Vxf/AAlPiyyX/iZeDJpsdXsrlHB+i5JoX4jhci48LeJY2HZdInkH5qlAHaUVxjfEiHb+78M+J2bsDotyv6lKRPGuvXmRpngnUmHZrpxb/o+DQB2lQXl9aafAZr65it4l6tK4UfrXINF8QtXXa82maFEx6xqZplH1JK/pT7P4a6c1yLvxFeXmvXQOc3sh8sf9slwn6UAQXfjy91qdrHwFprahLna1/cAxW0Xvkjc34DHvV3Q/AsdtqS6z4ium1jWcfLNKPkg9o1/hFdVBBFbQrDbxJFEgwqRqFVR7AU+gAooooAKKKKACiiigAooooA5zxJ4K0/xBPFeq8ljqlvzBf252yJ7H1HtWLH4q1/wnILfxrYtd2YOE1awTcuM8GROqn6bq72kIDKQwBB6g96AKWl63putW4m0u9huUIz8jcj6jqPxq9XJ6p8ONDvrg3dgs2kXvUT6fIYufUoPlb8Qaqppvj7R8iy1ex1uEdFv4tkuPTKbR+dAHbUVxZ8W+J7JB/afgq7fHV7OdJR+CjJoX4jxjPn+GPE0bDsuj3D/qEoA7SiuLb4kRY/deGPEzn0Oi3C/qUoXxj4jvQf7M8E33s93KsI/JsGgDtKq3+qWOlW5n1G7htowM7pXA/wD11yTWnxB1hQLi/wBO0KInkWsfmzAfVty/pU+nfDbSILgXesyXGuXmcmXUJC659o/uD8BQBTn8a6t4kmNp4D01pI84fVbxTHCnuoI3MfwA961PDvge10i+Oq6ncyatrMg+e9uOSuf4UH8K+1dNHGkUYSJFRFGAqjAH4U6gArk/Fvw90zxRILxWaw1SMfu72AYb6N6j2rrKKTSasw3PBtTtde8KTGLxJYtNag4TUbQF0I/2l6g/QGn213b3ke+0nSZfVWz+le6OiyIUkVXVhgqwyDXF658KvDurStcWkUmlXZ586xcxjPug+U/iK86rgIS1hoc0qCexwtFaVz8NvF2nk/2dqlnqkQ6LdJskI+q4FZc+l+L7HP2zwrPIB/FaSrLn8Bk1wSwVaPS5g6M0OoqibvVFOJPCniEH/Z0yZv5LQLvVG4Twp4hJ/wBrTJl/mtZfVq38rJ9nPsXqKbBpfi++x9j8Kzxg/wAV3KsWPwODWpbfDbxdqGP7R1Sz0uI9VtY98gH1bIrWOCrS6WKVGbMe5vLezj33c6RL/tHr+FM0y017xXMIvDdiYbUnD6jeKUQD/ZXqx+oFeh6H8KfDukzLc3cUmq3Y5869cyDPsn3R+ArtURY0CRqEVRgKowBXfSwEI6z1N40EtzlPCXw90vwu5vGLX2qSDEt7OMsfZfQe1dZRRXopJKyOnYKKKKYBRRRQAUUUUAFct4s8A6V4r23Eoa01GIfub2Dh19j6j2rqaKTSaswPCNV0/wAQ+Epimv2bXlkD8uo2a7hj/bXqD9M0Wt7bXse+0nSVf9k8j8Ote7ModSrgMpGCCM5rjdd+FvhzWZWuIIH0y7PPn2TGPn3UfKfxFedVwEJaw0OeVBPY4KitO5+GnivT8/2Xq9rqUQ6JeR7XP4rgVlz6T4wsf+PzwtNKB/FaTLJn8Bk1wSwVaOyuc7ozQtFUTd6ohxJ4U8Qgj+7pkzfqFoF5qbcJ4U8Qk++lzL/Nay+rVv5WT7OfYvUUy303xdff8eXhS5QH+K7kWLH4Ng1qW3w58Yahj7fqNlpcR6rbp5kg/E5FaRwVaXSxSozfQybi6gtIzJdTJCo7u2Kh06LW/FMwh8MWDCDOH1C6BSJR/sjqx/CvQ9E+E/h/TJludQWXV7sc+beuXXP+5939K7aOKOGNY4UWNFGAqjAH4V30svjHWbubxoJfEcj4S+HWneG5vt9zI2o6sw+e8mHK+yj+EV2FFFekkkrI6djk/Fvw90zxQ4u1ZrHVIx+7vYBhvo3qPavMtTtde8KTGLxJYtNag4TUbQF0I/2l6g/QGveaa6LIhSRVdWGCrDINY1cPTqr3kROnGe54XbXltex77SdJl9VP9Kmrutb+FPh3VpmuLSKTSrs8+dYuYxn3QfKfxFcvc/Dbxdp+f7O1Sz1OIdFuk2SEfVcCvLqZfNfA7nLLDyWxm0U2fS/F9j/x+eFZ5AP4rSVZc/gMmqZvNUU4k8KeIQf9nTJm/ktcrwtZfZM/ZTXQvUVRF3qjcR+FPEJP+1pky/zWrlvpfi++x9j8Kzxg/wAV3KsWPwODQsLWf2QVKb6Dqhuby2s4993OkK/7R6/hWxbfDbxdqGP7R1Wz0uI9VtY98gH1bIrqND+FXh3SZlubuKTVbsc+deuZBn2Q/KPwFdVPL5v43Y0jh5Pc880y017xXMIvDdiYbUnD6heKUQD/AGV6k/UCvTfCXw90zwu5u2LX2qSD97ezjLH2X0HtXVoixoEjUIqjAVRgClr1KOHp0l7qOmFOMNgooorc0CiiigAooooAKKKKACiiigAooooAKKKKACiiigAooooAKKKKACiiigAooooAKKKKACiiigAooooAKKKKACiiigAooooAKKKKACiiigAooooAKKKKACiiigAooooAKKKKACiiigAooooAKKKKACiiigAooooAKKKKACiiigAooooAKKKKACiiigAooooAKKKKACiiigAooooAKKKKACiiigAooooAKKKKACiiigAooooAKKKKACiiigAooooAKKKKACiiigAooooAKKKKACiiigAooooAKKKKACiiigAooooAKKKKACiiigAooooAKKKKACiiigAooooAKKKKACiiigAooooAKKKKACiiigAooooAKKKKACiiigAooooAKKKKACiiigAooooAKKKKACiiigAooooAKKKKACiiigAooooAKKKKACiiigAooooAKKKKACiiigAooooAKKKKACiiigAooooAKKKKACiiigAooooAKKKKACiiigAooooAKKKKACiiigAooooAKKKKACiiigAooooAKKKKACiiigAooooAKKKKACiiigAooooAKKKKACiiigAooooAKKKKACiiigAooooAKKKKACiiigAooooAKKKKACiiigAooooAKKKKACiiigAooooAKKKKACiiigAooooAKKKKACiiigAooooAKKKKACiiigAooooAKKKKACiiigAooooAKKKKACiiigAooooAKKKKACiiigD/2Q==)"
      ]
    },
    {
      "cell_type": "code",
      "execution_count": 8,
      "metadata": {
        "id": "dhg8rVgB_YE4"
      },
      "outputs": [],
      "source": [
        "Nombres = pd.DataFrame({'id':[3,4,5,6], 'Nombre': [\"Ana\", \"Juan\", \"Carolina\", \"Pedro\"]})\n",
        "Edad = pd.DataFrame({'id':[1,2,3,4], 'Edad':[11,21,8,15]})"
      ]
    },
    {
      "cell_type": "code",
      "execution_count": 9,
      "metadata": {
        "id": "6nCE8GZJ_YFE"
      },
      "outputs": [
        {
          "data": {
            "text/html": [
              "<div>\n",
              "<style scoped>\n",
              "    .dataframe tbody tr th:only-of-type {\n",
              "        vertical-align: middle;\n",
              "    }\n",
              "\n",
              "    .dataframe tbody tr th {\n",
              "        vertical-align: top;\n",
              "    }\n",
              "\n",
              "    .dataframe thead th {\n",
              "        text-align: right;\n",
              "    }\n",
              "</style>\n",
              "<table border=\"1\" class=\"dataframe\">\n",
              "  <thead>\n",
              "    <tr style=\"text-align: right;\">\n",
              "      <th></th>\n",
              "      <th>id</th>\n",
              "      <th>Nombre</th>\n",
              "      <th>Edad</th>\n",
              "    </tr>\n",
              "  </thead>\n",
              "  <tbody>\n",
              "    <tr>\n",
              "      <th>0</th>\n",
              "      <td>3</td>\n",
              "      <td>Ana</td>\n",
              "      <td>8</td>\n",
              "    </tr>\n",
              "    <tr>\n",
              "      <th>1</th>\n",
              "      <td>4</td>\n",
              "      <td>Juan</td>\n",
              "      <td>15</td>\n",
              "    </tr>\n",
              "  </tbody>\n",
              "</table>\n",
              "</div>"
            ],
            "text/plain": [
              "   id Nombre  Edad\n",
              "0   3    Ana     8\n",
              "1   4   Juan    15"
            ]
          },
          "execution_count": 9,
          "metadata": {},
          "output_type": "execute_result"
        }
      ],
      "source": [
        "pd.merge(Nombres, Edad, how='inner')"
      ]
    },
    {
      "cell_type": "code",
      "execution_count": 10,
      "metadata": {
        "id": "PTKIbmVf_YFL"
      },
      "outputs": [
        {
          "data": {
            "text/html": [
              "<div>\n",
              "<style scoped>\n",
              "    .dataframe tbody tr th:only-of-type {\n",
              "        vertical-align: middle;\n",
              "    }\n",
              "\n",
              "    .dataframe tbody tr th {\n",
              "        vertical-align: top;\n",
              "    }\n",
              "\n",
              "    .dataframe thead th {\n",
              "        text-align: right;\n",
              "    }\n",
              "</style>\n",
              "<table border=\"1\" class=\"dataframe\">\n",
              "  <thead>\n",
              "    <tr style=\"text-align: right;\">\n",
              "      <th></th>\n",
              "      <th>id</th>\n",
              "      <th>Nombre</th>\n",
              "      <th>Edad</th>\n",
              "    </tr>\n",
              "  </thead>\n",
              "  <tbody>\n",
              "    <tr>\n",
              "      <th>0</th>\n",
              "      <td>3</td>\n",
              "      <td>Ana</td>\n",
              "      <td>8.0</td>\n",
              "    </tr>\n",
              "    <tr>\n",
              "      <th>1</th>\n",
              "      <td>4</td>\n",
              "      <td>Juan</td>\n",
              "      <td>15.0</td>\n",
              "    </tr>\n",
              "    <tr>\n",
              "      <th>2</th>\n",
              "      <td>5</td>\n",
              "      <td>Carolina</td>\n",
              "      <td>NaN</td>\n",
              "    </tr>\n",
              "    <tr>\n",
              "      <th>3</th>\n",
              "      <td>6</td>\n",
              "      <td>Pedro</td>\n",
              "      <td>NaN</td>\n",
              "    </tr>\n",
              "    <tr>\n",
              "      <th>4</th>\n",
              "      <td>1</td>\n",
              "      <td>NaN</td>\n",
              "      <td>11.0</td>\n",
              "    </tr>\n",
              "    <tr>\n",
              "      <th>5</th>\n",
              "      <td>2</td>\n",
              "      <td>NaN</td>\n",
              "      <td>21.0</td>\n",
              "    </tr>\n",
              "  </tbody>\n",
              "</table>\n",
              "</div>"
            ],
            "text/plain": [
              "   id    Nombre  Edad\n",
              "0   3       Ana   8.0\n",
              "1   4      Juan  15.0\n",
              "2   5  Carolina   NaN\n",
              "3   6     Pedro   NaN\n",
              "4   1       NaN  11.0\n",
              "5   2       NaN  21.0"
            ]
          },
          "execution_count": 10,
          "metadata": {},
          "output_type": "execute_result"
        }
      ],
      "source": [
        "pd.merge(Nombres, Edad, how='outer')"
      ]
    },
    {
      "cell_type": "code",
      "execution_count": 11,
      "metadata": {
        "id": "5uclyn2l_YFU"
      },
      "outputs": [
        {
          "data": {
            "text/html": [
              "<div>\n",
              "<style scoped>\n",
              "    .dataframe tbody tr th:only-of-type {\n",
              "        vertical-align: middle;\n",
              "    }\n",
              "\n",
              "    .dataframe tbody tr th {\n",
              "        vertical-align: top;\n",
              "    }\n",
              "\n",
              "    .dataframe thead th {\n",
              "        text-align: right;\n",
              "    }\n",
              "</style>\n",
              "<table border=\"1\" class=\"dataframe\">\n",
              "  <thead>\n",
              "    <tr style=\"text-align: right;\">\n",
              "      <th></th>\n",
              "      <th>id</th>\n",
              "      <th>Nombre</th>\n",
              "      <th>Edad</th>\n",
              "    </tr>\n",
              "  </thead>\n",
              "  <tbody>\n",
              "    <tr>\n",
              "      <th>0</th>\n",
              "      <td>3</td>\n",
              "      <td>Ana</td>\n",
              "      <td>8.0</td>\n",
              "    </tr>\n",
              "    <tr>\n",
              "      <th>1</th>\n",
              "      <td>4</td>\n",
              "      <td>Juan</td>\n",
              "      <td>15.0</td>\n",
              "    </tr>\n",
              "    <tr>\n",
              "      <th>2</th>\n",
              "      <td>5</td>\n",
              "      <td>Carolina</td>\n",
              "      <td>NaN</td>\n",
              "    </tr>\n",
              "    <tr>\n",
              "      <th>3</th>\n",
              "      <td>6</td>\n",
              "      <td>Pedro</td>\n",
              "      <td>NaN</td>\n",
              "    </tr>\n",
              "  </tbody>\n",
              "</table>\n",
              "</div>"
            ],
            "text/plain": [
              "   id    Nombre  Edad\n",
              "0   3       Ana   8.0\n",
              "1   4      Juan  15.0\n",
              "2   5  Carolina   NaN\n",
              "3   6     Pedro   NaN"
            ]
          },
          "execution_count": 11,
          "metadata": {},
          "output_type": "execute_result"
        }
      ],
      "source": [
        "pd.merge(Nombres, Edad, how='left')"
      ]
    },
    {
      "cell_type": "code",
      "execution_count": null,
      "metadata": {
        "id": "rawyd93w_YFY"
      },
      "outputs": [],
      "source": [
        "pd.merge(Nombres, Edad, how='right')"
      ]
    },
    {
      "cell_type": "code",
      "execution_count": 13,
      "metadata": {},
      "outputs": [
        {
          "data": {
            "text/html": [
              "<div>\n",
              "<style scoped>\n",
              "    .dataframe tbody tr th:only-of-type {\n",
              "        vertical-align: middle;\n",
              "    }\n",
              "\n",
              "    .dataframe tbody tr th {\n",
              "        vertical-align: top;\n",
              "    }\n",
              "\n",
              "    .dataframe thead th {\n",
              "        text-align: right;\n",
              "    }\n",
              "</style>\n",
              "<table border=\"1\" class=\"dataframe\">\n",
              "  <thead>\n",
              "    <tr style=\"text-align: right;\">\n",
              "      <th></th>\n",
              "      <th>id</th>\n",
              "      <th>Nombre</th>\n",
              "      <th>id_edad</th>\n",
              "      <th>Edad</th>\n",
              "    </tr>\n",
              "  </thead>\n",
              "  <tbody>\n",
              "    <tr>\n",
              "      <th>0</th>\n",
              "      <td>3</td>\n",
              "      <td>Ana</td>\n",
              "      <td>4.0</td>\n",
              "      <td>15.0</td>\n",
              "    </tr>\n",
              "    <tr>\n",
              "      <th>1</th>\n",
              "      <td>4</td>\n",
              "      <td>Juan</td>\n",
              "      <td>NaN</td>\n",
              "      <td>NaN</td>\n",
              "    </tr>\n",
              "    <tr>\n",
              "      <th>2</th>\n",
              "      <td>5</td>\n",
              "      <td>Carolina</td>\n",
              "      <td>NaN</td>\n",
              "      <td>NaN</td>\n",
              "    </tr>\n",
              "    <tr>\n",
              "      <th>3</th>\n",
              "      <td>6</td>\n",
              "      <td>Pedro</td>\n",
              "      <td>NaN</td>\n",
              "      <td>NaN</td>\n",
              "    </tr>\n",
              "  </tbody>\n",
              "</table>\n",
              "</div>"
            ],
            "text/plain": [
              "   id    Nombre  id_edad  Edad\n",
              "0   3       Ana      4.0  15.0\n",
              "1   4      Juan      NaN   NaN\n",
              "2   5  Carolina      NaN   NaN\n",
              "3   6     Pedro      NaN   NaN"
            ]
          },
          "execution_count": 13,
          "metadata": {},
          "output_type": "execute_result"
        }
      ],
      "source": [
        "Nombres.join(Edad, on=\"id\", rsuffix=\"_edad\")"
      ]
    },
    {
      "cell_type": "code",
      "execution_count": 12,
      "metadata": {},
      "outputs": [
        {
          "data": {
            "text/html": [
              "<div>\n",
              "<style scoped>\n",
              "    .dataframe tbody tr th:only-of-type {\n",
              "        vertical-align: middle;\n",
              "    }\n",
              "\n",
              "    .dataframe tbody tr th {\n",
              "        vertical-align: top;\n",
              "    }\n",
              "\n",
              "    .dataframe thead th {\n",
              "        text-align: right;\n",
              "    }\n",
              "</style>\n",
              "<table border=\"1\" class=\"dataframe\">\n",
              "  <thead>\n",
              "    <tr style=\"text-align: right;\">\n",
              "      <th></th>\n",
              "      <th>id</th>\n",
              "      <th>Nombre</th>\n",
              "      <th>Edad</th>\n",
              "    </tr>\n",
              "  </thead>\n",
              "  <tbody>\n",
              "    <tr>\n",
              "      <th>0</th>\n",
              "      <td>3</td>\n",
              "      <td>Ana</td>\n",
              "      <td>8.0</td>\n",
              "    </tr>\n",
              "    <tr>\n",
              "      <th>1</th>\n",
              "      <td>4</td>\n",
              "      <td>Juan</td>\n",
              "      <td>15.0</td>\n",
              "    </tr>\n",
              "    <tr>\n",
              "      <th>2</th>\n",
              "      <td>5</td>\n",
              "      <td>Carolina</td>\n",
              "      <td>NaN</td>\n",
              "    </tr>\n",
              "    <tr>\n",
              "      <th>3</th>\n",
              "      <td>6</td>\n",
              "      <td>Pedro</td>\n",
              "      <td>NaN</td>\n",
              "    </tr>\n",
              "  </tbody>\n",
              "</table>\n",
              "</div>"
            ],
            "text/plain": [
              "   id    Nombre  Edad\n",
              "0   3       Ana   8.0\n",
              "1   4      Juan  15.0\n",
              "2   5  Carolina   NaN\n",
              "3   6     Pedro   NaN"
            ]
          },
          "execution_count": 12,
          "metadata": {},
          "output_type": "execute_result"
        }
      ],
      "source": [
        "Nombres.join(Edad.set_index(\"id\"), on=\"id\")"
      ]
    },
    {
      "cell_type": "markdown",
      "metadata": {
        "id": "a9Bf0mpRhbuI"
      },
      "source": [
        "## Agrupaciones\n",
        "\n"
      ]
    },
    {
      "cell_type": "code",
      "execution_count": 16,
      "metadata": {
        "id": "Dn-J__49rt9n"
      },
      "outputs": [],
      "source": [
        "data = pd.read_csv(\"/home/marifra/Documents/MaestriaAustral/Labo_II/DMA_LAB2/data/titanic.csv\", index_col=\"PassengerId\")"
      ]
    },
    {
      "cell_type": "code",
      "execution_count": 17,
      "metadata": {
        "id": "rfntOANpuOo1"
      },
      "outputs": [
        {
          "data": {
            "text/html": [
              "<div>\n",
              "<style scoped>\n",
              "    .dataframe tbody tr th:only-of-type {\n",
              "        vertical-align: middle;\n",
              "    }\n",
              "\n",
              "    .dataframe tbody tr th {\n",
              "        vertical-align: top;\n",
              "    }\n",
              "\n",
              "    .dataframe thead th {\n",
              "        text-align: right;\n",
              "    }\n",
              "</style>\n",
              "<table border=\"1\" class=\"dataframe\">\n",
              "  <thead>\n",
              "    <tr style=\"text-align: right;\">\n",
              "      <th></th>\n",
              "      <th>Survived</th>\n",
              "      <th>Pclass</th>\n",
              "      <th>Name</th>\n",
              "      <th>Sex</th>\n",
              "      <th>Age</th>\n",
              "      <th>SibSp</th>\n",
              "      <th>Parch</th>\n",
              "      <th>Ticket</th>\n",
              "      <th>Fare</th>\n",
              "      <th>Cabin</th>\n",
              "      <th>Embarked</th>\n",
              "    </tr>\n",
              "    <tr>\n",
              "      <th>PassengerId</th>\n",
              "      <th></th>\n",
              "      <th></th>\n",
              "      <th></th>\n",
              "      <th></th>\n",
              "      <th></th>\n",
              "      <th></th>\n",
              "      <th></th>\n",
              "      <th></th>\n",
              "      <th></th>\n",
              "      <th></th>\n",
              "      <th></th>\n",
              "    </tr>\n",
              "  </thead>\n",
              "  <tbody>\n",
              "    <tr>\n",
              "      <th>1</th>\n",
              "      <td>0</td>\n",
              "      <td>3</td>\n",
              "      <td>Braund, Mr. Owen Harris</td>\n",
              "      <td>male</td>\n",
              "      <td>22.0</td>\n",
              "      <td>1</td>\n",
              "      <td>0</td>\n",
              "      <td>A/5 21171</td>\n",
              "      <td>7.2500</td>\n",
              "      <td>NaN</td>\n",
              "      <td>S</td>\n",
              "    </tr>\n",
              "    <tr>\n",
              "      <th>2</th>\n",
              "      <td>1</td>\n",
              "      <td>1</td>\n",
              "      <td>Cumings, Mrs. John Bradley (Florence Briggs Th...</td>\n",
              "      <td>female</td>\n",
              "      <td>38.0</td>\n",
              "      <td>1</td>\n",
              "      <td>0</td>\n",
              "      <td>PC 17599</td>\n",
              "      <td>71.2833</td>\n",
              "      <td>C85</td>\n",
              "      <td>C</td>\n",
              "    </tr>\n",
              "    <tr>\n",
              "      <th>3</th>\n",
              "      <td>1</td>\n",
              "      <td>3</td>\n",
              "      <td>Heikkinen, Miss. Laina</td>\n",
              "      <td>female</td>\n",
              "      <td>26.0</td>\n",
              "      <td>0</td>\n",
              "      <td>0</td>\n",
              "      <td>STON/O2. 3101282</td>\n",
              "      <td>7.9250</td>\n",
              "      <td>NaN</td>\n",
              "      <td>S</td>\n",
              "    </tr>\n",
              "    <tr>\n",
              "      <th>4</th>\n",
              "      <td>1</td>\n",
              "      <td>1</td>\n",
              "      <td>Futrelle, Mrs. Jacques Heath (Lily May Peel)</td>\n",
              "      <td>female</td>\n",
              "      <td>35.0</td>\n",
              "      <td>1</td>\n",
              "      <td>0</td>\n",
              "      <td>113803</td>\n",
              "      <td>53.1000</td>\n",
              "      <td>C123</td>\n",
              "      <td>S</td>\n",
              "    </tr>\n",
              "    <tr>\n",
              "      <th>5</th>\n",
              "      <td>0</td>\n",
              "      <td>3</td>\n",
              "      <td>Allen, Mr. William Henry</td>\n",
              "      <td>male</td>\n",
              "      <td>35.0</td>\n",
              "      <td>0</td>\n",
              "      <td>0</td>\n",
              "      <td>373450</td>\n",
              "      <td>8.0500</td>\n",
              "      <td>NaN</td>\n",
              "      <td>S</td>\n",
              "    </tr>\n",
              "  </tbody>\n",
              "</table>\n",
              "</div>"
            ],
            "text/plain": [
              "             Survived  Pclass  \\\n",
              "PassengerId                     \n",
              "1                   0       3   \n",
              "2                   1       1   \n",
              "3                   1       3   \n",
              "4                   1       1   \n",
              "5                   0       3   \n",
              "\n",
              "                                                          Name     Sex   Age  \\\n",
              "PassengerId                                                                    \n",
              "1                                      Braund, Mr. Owen Harris    male  22.0   \n",
              "2            Cumings, Mrs. John Bradley (Florence Briggs Th...  female  38.0   \n",
              "3                                       Heikkinen, Miss. Laina  female  26.0   \n",
              "4                 Futrelle, Mrs. Jacques Heath (Lily May Peel)  female  35.0   \n",
              "5                                     Allen, Mr. William Henry    male  35.0   \n",
              "\n",
              "             SibSp  Parch            Ticket     Fare Cabin Embarked  \n",
              "PassengerId                                                          \n",
              "1                1      0         A/5 21171   7.2500   NaN        S  \n",
              "2                1      0          PC 17599  71.2833   C85        C  \n",
              "3                0      0  STON/O2. 3101282   7.9250   NaN        S  \n",
              "4                1      0            113803  53.1000  C123        S  \n",
              "5                0      0            373450   8.0500   NaN        S  "
            ]
          },
          "execution_count": 17,
          "metadata": {},
          "output_type": "execute_result"
        }
      ],
      "source": [
        "data.head()"
      ]
    },
    {
      "cell_type": "markdown",
      "metadata": {
        "id": "d-5ENFmXutfB"
      },
      "source": [
        "Puedo usar un agrupador por Columna"
      ]
    },
    {
      "cell_type": "code",
      "execution_count": null,
      "metadata": {
        "colab": {
          "base_uri": "https://localhost:8080/",
          "height": 34
        },
        "id": "DCWJiX62uH44",
        "outputId": "978ccd18-a66d-411c-d121-65966d42bd49"
      },
      "outputs": [],
      "source": [
        "data['Survived'].sum()"
      ]
    },
    {
      "cell_type": "code",
      "execution_count": null,
      "metadata": {
        "colab": {
          "base_uri": "https://localhost:8080/",
          "height": 34
        },
        "id": "hcoHUqv8ugU_",
        "outputId": "c891af4b-d209-4951-9274-b6bd3516f9d6"
      },
      "outputs": [],
      "source": [
        "data['Age'].mean()"
      ]
    },
    {
      "cell_type": "markdown",
      "metadata": {
        "id": "xSvYhyGVuw8w"
      },
      "source": [
        "Y también puedo agrupar por fila, por ejemplo, para construir otra columna"
      ]
    },
    {
      "cell_type": "code",
      "execution_count": 24,
      "metadata": {
        "id": "LWQapiqJt3pM"
      },
      "outputs": [
        {
          "data": {
            "text/plain": [
              "PassengerId\n",
              "1      1\n",
              "2      1\n",
              "3      0\n",
              "4      1\n",
              "5      0\n",
              "      ..\n",
              "887    0\n",
              "888    0\n",
              "889    3\n",
              "890    0\n",
              "891    0\n",
              "Length: 891, dtype: int64"
            ]
          },
          "execution_count": 24,
          "metadata": {},
          "output_type": "execute_result"
        }
      ],
      "source": [
        "d = data['NumFam'] = data[['SibSp', 'Parch']].sum(axis=1)\n",
        "# data[['SibSp', 'Parch','NumFam']].head(10)\n",
        "d"
      ]
    },
    {
      "cell_type": "markdown",
      "metadata": {
        "id": "y0UH7G-ovBPm"
      },
      "source": [
        "\n",
        "### Group By\n",
        "\n",
        "Las agrupaciones sirven para hacer cálculos sobre subconjuntos de los datos, generalmente tienen tres partes:\n",
        "\n",
        "1. Definir los grupos\n",
        "2. Aplicar un cálculo\n",
        "3. Combinar los resultados"
      ]
    },
    {
      "cell_type": "code",
      "execution_count": null,
      "metadata": {
        "id": "tMKcPxwfsiok"
      },
      "outputs": [],
      "source": [
        "agrupado = data.groupby([\"Pclass\", \"Sex\"])\n",
        "agrupado"
      ]
    },
    {
      "cell_type": "code",
      "execution_count": null,
      "metadata": {
        "id": "o8dXNXk7t3pR"
      },
      "outputs": [],
      "source": [
        "agrupado.Survived.mean()"
      ]
    },
    {
      "cell_type": "code",
      "execution_count": null,
      "metadata": {
        "id": "BL9iKg2it3pU"
      },
      "outputs": [],
      "source": [
        "agrupado.Survived.agg(\n",
        "    media=\"mean\",\n",
        "    media_2= np.mean,\n",
        "    varianza= \"var\",\n",
        "    cantidad= \"count\",\n",
        "    cant2= len\n",
        ")"
      ]
    },
    {
      "cell_type": "code",
      "execution_count": null,
      "metadata": {
        "id": "HY-j58Gat3pa"
      },
      "outputs": [],
      "source": [
        "data.groupby(\"Survived\")[['Age', 'SibSp', 'Parch', 'NumFam', 'Fare']].mean()"
      ]
    },
    {
      "cell_type": "markdown",
      "metadata": {
        "id": "qxZ1M9IDt3pe"
      },
      "source": [
        "### Tablas de contingencia\n",
        "\n",
        "Las tablas de contingencia asemejan las tablas dinámicas de excel, sirven apra ver inteacciones entre variables\n",
        "\n"
      ]
    },
    {
      "cell_type": "code",
      "execution_count": null,
      "metadata": {
        "id": "kUdRnq31t3pf"
      },
      "outputs": [],
      "source": [
        "pd.crosstab(data.Age.isnull(), data.Survived)"
      ]
    },
    {
      "cell_type": "code",
      "execution_count": null,
      "metadata": {
        "id": "KWYOL7pnt3pj"
      },
      "outputs": [],
      "source": [
        "pd.crosstab(data.Age.isnull(), data.Survived).apply(lambda x: x/x.sum(), axis=0)"
      ]
    },
    {
      "cell_type": "code",
      "execution_count": null,
      "metadata": {
        "id": "I6qDIrAnt3po"
      },
      "outputs": [],
      "source": [
        "pd.crosstab(data.Pclass, data.Survived, values=data.Fare, aggfunc=np.mean)"
      ]
    },
    {
      "cell_type": "code",
      "execution_count": null,
      "metadata": {
        "id": "K73e-QK6t3ps"
      },
      "outputs": [],
      "source": [
        "pd.crosstab(pd.qcut(data.Age, 10), data.Sex, values=data.Survived, aggfunc=np.mean)"
      ]
    },
    {
      "cell_type": "code",
      "execution_count": null,
      "metadata": {
        "id": "3fm45iaFt3pv"
      },
      "outputs": [],
      "source": [
        "pd.crosstab(pd.cut(data.Age, range(0, 100, 10)), data.Sex, values=data.Survived, aggfunc=np.mean)"
      ]
    },
    {
      "cell_type": "markdown",
      "metadata": {
        "id": "atSszHhs8JMG"
      },
      "source": [
        "## Graficación Simple con plot()"
      ]
    },
    {
      "cell_type": "code",
      "execution_count": null,
      "metadata": {
        "id": "-e4sqfKA4Kyj"
      },
      "outputs": [],
      "source": [
        "data.sort_values('Age').plot(x = 'Age', y = 'Fare')"
      ]
    },
    {
      "cell_type": "code",
      "execution_count": null,
      "metadata": {
        "id": "0CcPOlS-3L4o"
      },
      "outputs": [],
      "source": [
        "pd.crosstab(pd.cut(data.Age, range(0, 100, 10)), data.Sex, values=data.Survived, aggfunc=np.mean).plot(kind = 'bar')"
      ]
    },
    {
      "cell_type": "markdown",
      "metadata": {
        "id": "pyreHfkvcEPP"
      },
      "source": [
        "## Ejercicios"
      ]
    },
    {
      "cell_type": "markdown",
      "metadata": {
        "id": "cZW2sWt9yS7P"
      },
      "source": [
        "### Combinación de Objetos"
      ]
    },
    {
      "cell_type": "markdown",
      "metadata": {
        "id": "qgzeN-QjYFHf"
      },
      "source": [
        "Crear los siguientes objetos:"
      ]
    },
    {
      "cell_type": "code",
      "execution_count": 18,
      "metadata": {
        "id": "_JUtNs9uYHzH"
      },
      "outputs": [],
      "source": [
        "Nombres_1 = pd.DataFrame({'id':[1,2,3,4], 'Nombre': [\"Ana\", \"Juan\", \"Carolina\", \"Pedro\"]})\n",
        "Nombres_2 = pd.DataFrame({'id':[5,6,7,8], 'Nombre': [\"Martin\", \"Lucas\", \"Julieta\", \"Pablo\"]})\n",
        "Edad_1 = pd.DataFrame({'id_edades':[3,4,5,6], 'Edad':[11,21,8,15]})"
      ]
    },
    {
      "cell_type": "markdown",
      "metadata": {
        "id": "lySH7h9HYel-"
      },
      "source": [
        "Concatenar los objetos Nombres_1 y Nombres_2 en un objeto llamado Nombres_3"
      ]
    },
    {
      "cell_type": "code",
      "execution_count": 20,
      "metadata": {
        "id": "in6xTaKyYeNG"
      },
      "outputs": [
        {
          "name": "stderr",
          "output_type": "stream",
          "text": [
            "/tmp/ipykernel_7394/3697700641.py:3: FutureWarning: The frame.append method is deprecated and will be removed from pandas in a future version. Use pandas.concat instead.\n",
            "  Nombres_3 = Nombres_1.append(Nombres_2)\n"
          ]
        },
        {
          "data": {
            "text/html": [
              "<div>\n",
              "<style scoped>\n",
              "    .dataframe tbody tr th:only-of-type {\n",
              "        vertical-align: middle;\n",
              "    }\n",
              "\n",
              "    .dataframe tbody tr th {\n",
              "        vertical-align: top;\n",
              "    }\n",
              "\n",
              "    .dataframe thead th {\n",
              "        text-align: right;\n",
              "    }\n",
              "</style>\n",
              "<table border=\"1\" class=\"dataframe\">\n",
              "  <thead>\n",
              "    <tr style=\"text-align: right;\">\n",
              "      <th></th>\n",
              "      <th>id</th>\n",
              "      <th>Nombre</th>\n",
              "    </tr>\n",
              "  </thead>\n",
              "  <tbody>\n",
              "    <tr>\n",
              "      <th>0</th>\n",
              "      <td>1</td>\n",
              "      <td>Ana</td>\n",
              "    </tr>\n",
              "    <tr>\n",
              "      <th>1</th>\n",
              "      <td>2</td>\n",
              "      <td>Juan</td>\n",
              "    </tr>\n",
              "    <tr>\n",
              "      <th>2</th>\n",
              "      <td>3</td>\n",
              "      <td>Carolina</td>\n",
              "    </tr>\n",
              "    <tr>\n",
              "      <th>3</th>\n",
              "      <td>4</td>\n",
              "      <td>Pedro</td>\n",
              "    </tr>\n",
              "    <tr>\n",
              "      <th>0</th>\n",
              "      <td>5</td>\n",
              "      <td>Martin</td>\n",
              "    </tr>\n",
              "    <tr>\n",
              "      <th>1</th>\n",
              "      <td>6</td>\n",
              "      <td>Lucas</td>\n",
              "    </tr>\n",
              "    <tr>\n",
              "      <th>2</th>\n",
              "      <td>7</td>\n",
              "      <td>Julieta</td>\n",
              "    </tr>\n",
              "    <tr>\n",
              "      <th>3</th>\n",
              "      <td>8</td>\n",
              "      <td>Pablo</td>\n",
              "    </tr>\n",
              "  </tbody>\n",
              "</table>\n",
              "</div>"
            ],
            "text/plain": [
              "   id    Nombre\n",
              "0   1       Ana\n",
              "1   2      Juan\n",
              "2   3  Carolina\n",
              "3   4     Pedro\n",
              "0   5    Martin\n",
              "1   6     Lucas\n",
              "2   7   Julieta\n",
              "3   8     Pablo"
            ]
          },
          "execution_count": 20,
          "metadata": {},
          "output_type": "execute_result"
        }
      ],
      "source": [
        "# Nombres.append(Nombres2)\n",
        "\n",
        "Nombres_3 = Nombres_1.append(Nombres_2)\n",
        "Nombres_3"
      ]
    },
    {
      "cell_type": "markdown",
      "metadata": {
        "id": "XVhGnXK-YmG7"
      },
      "source": [
        "Hacer un Merge de Nombre_3 y Edad_1, quedandonos solo con las filas que coincidan"
      ]
    },
    {
      "cell_type": "code",
      "execution_count": 27,
      "metadata": {
        "id": "8Q7VIZsoYl1D"
      },
      "outputs": [
        {
          "data": {
            "text/html": [
              "<div>\n",
              "<style scoped>\n",
              "    .dataframe tbody tr th:only-of-type {\n",
              "        vertical-align: middle;\n",
              "    }\n",
              "\n",
              "    .dataframe tbody tr th {\n",
              "        vertical-align: top;\n",
              "    }\n",
              "\n",
              "    .dataframe thead th {\n",
              "        text-align: right;\n",
              "    }\n",
              "</style>\n",
              "<table border=\"1\" class=\"dataframe\">\n",
              "  <thead>\n",
              "    <tr style=\"text-align: right;\">\n",
              "      <th></th>\n",
              "      <th>id</th>\n",
              "      <th>Nombre</th>\n",
              "      <th>id_edades</th>\n",
              "      <th>Edad</th>\n",
              "    </tr>\n",
              "  </thead>\n",
              "  <tbody>\n",
              "    <tr>\n",
              "      <th>0</th>\n",
              "      <td>3</td>\n",
              "      <td>Carolina</td>\n",
              "      <td>3</td>\n",
              "      <td>11</td>\n",
              "    </tr>\n",
              "    <tr>\n",
              "      <th>1</th>\n",
              "      <td>4</td>\n",
              "      <td>Pedro</td>\n",
              "      <td>4</td>\n",
              "      <td>21</td>\n",
              "    </tr>\n",
              "    <tr>\n",
              "      <th>2</th>\n",
              "      <td>5</td>\n",
              "      <td>Martin</td>\n",
              "      <td>5</td>\n",
              "      <td>8</td>\n",
              "    </tr>\n",
              "    <tr>\n",
              "      <th>3</th>\n",
              "      <td>6</td>\n",
              "      <td>Lucas</td>\n",
              "      <td>6</td>\n",
              "      <td>15</td>\n",
              "    </tr>\n",
              "  </tbody>\n",
              "</table>\n",
              "</div>"
            ],
            "text/plain": [
              "   id    Nombre  id_edades  Edad\n",
              "0   3  Carolina          3    11\n",
              "1   4     Pedro          4    21\n",
              "2   5    Martin          5     8\n",
              "3   6     Lucas          6    15"
            ]
          },
          "execution_count": 27,
          "metadata": {},
          "output_type": "execute_result"
        }
      ],
      "source": [
        "pd.merge(Nombres_3, Edad_1, left_on= 'id', right_on = 'id_edades', how='inner')\n"
      ]
    },
    {
      "cell_type": "markdown",
      "metadata": {
        "id": "8KvnwfkVY5I5"
      },
      "source": [
        "Hacer un Merge de Nombre_3 y Edad_1, quedandonos solo con todas las filas de Nombre_3"
      ]
    },
    {
      "cell_type": "code",
      "execution_count": 28,
      "metadata": {
        "id": "7Ee-9pNbY49O"
      },
      "outputs": [
        {
          "data": {
            "text/html": [
              "<div>\n",
              "<style scoped>\n",
              "    .dataframe tbody tr th:only-of-type {\n",
              "        vertical-align: middle;\n",
              "    }\n",
              "\n",
              "    .dataframe tbody tr th {\n",
              "        vertical-align: top;\n",
              "    }\n",
              "\n",
              "    .dataframe thead th {\n",
              "        text-align: right;\n",
              "    }\n",
              "</style>\n",
              "<table border=\"1\" class=\"dataframe\">\n",
              "  <thead>\n",
              "    <tr style=\"text-align: right;\">\n",
              "      <th></th>\n",
              "      <th>id</th>\n",
              "      <th>Nombre</th>\n",
              "      <th>id_edades</th>\n",
              "      <th>Edad</th>\n",
              "    </tr>\n",
              "  </thead>\n",
              "  <tbody>\n",
              "    <tr>\n",
              "      <th>0</th>\n",
              "      <td>1</td>\n",
              "      <td>Ana</td>\n",
              "      <td>NaN</td>\n",
              "      <td>NaN</td>\n",
              "    </tr>\n",
              "    <tr>\n",
              "      <th>1</th>\n",
              "      <td>2</td>\n",
              "      <td>Juan</td>\n",
              "      <td>NaN</td>\n",
              "      <td>NaN</td>\n",
              "    </tr>\n",
              "    <tr>\n",
              "      <th>2</th>\n",
              "      <td>3</td>\n",
              "      <td>Carolina</td>\n",
              "      <td>3.0</td>\n",
              "      <td>11.0</td>\n",
              "    </tr>\n",
              "    <tr>\n",
              "      <th>3</th>\n",
              "      <td>4</td>\n",
              "      <td>Pedro</td>\n",
              "      <td>4.0</td>\n",
              "      <td>21.0</td>\n",
              "    </tr>\n",
              "    <tr>\n",
              "      <th>4</th>\n",
              "      <td>5</td>\n",
              "      <td>Martin</td>\n",
              "      <td>5.0</td>\n",
              "      <td>8.0</td>\n",
              "    </tr>\n",
              "    <tr>\n",
              "      <th>5</th>\n",
              "      <td>6</td>\n",
              "      <td>Lucas</td>\n",
              "      <td>6.0</td>\n",
              "      <td>15.0</td>\n",
              "    </tr>\n",
              "    <tr>\n",
              "      <th>6</th>\n",
              "      <td>7</td>\n",
              "      <td>Julieta</td>\n",
              "      <td>NaN</td>\n",
              "      <td>NaN</td>\n",
              "    </tr>\n",
              "    <tr>\n",
              "      <th>7</th>\n",
              "      <td>8</td>\n",
              "      <td>Pablo</td>\n",
              "      <td>NaN</td>\n",
              "      <td>NaN</td>\n",
              "    </tr>\n",
              "  </tbody>\n",
              "</table>\n",
              "</div>"
            ],
            "text/plain": [
              "   id    Nombre  id_edades  Edad\n",
              "0   1       Ana        NaN   NaN\n",
              "1   2      Juan        NaN   NaN\n",
              "2   3  Carolina        3.0  11.0\n",
              "3   4     Pedro        4.0  21.0\n",
              "4   5    Martin        5.0   8.0\n",
              "5   6     Lucas        6.0  15.0\n",
              "6   7   Julieta        NaN   NaN\n",
              "7   8     Pablo        NaN   NaN"
            ]
          },
          "execution_count": 28,
          "metadata": {},
          "output_type": "execute_result"
        }
      ],
      "source": [
        "#pd.merge(Nombres, Edad, how='left')\n",
        "pd.merge(Nombres_3, Edad_1, left_on= 'id', right_on = 'id_edades', how='left')"
      ]
    },
    {
      "cell_type": "markdown",
      "metadata": {
        "id": "yUlcX47SyZCG"
      },
      "source": [
        "### Agrupaciones"
      ]
    },
    {
      "cell_type": "markdown",
      "metadata": {
        "id": "mnasPX8RonDs"
      },
      "source": [
        "¿Cuál es el precio promedio que se pagó por un Ticket? (Fare)\n"
      ]
    },
    {
      "cell_type": "code",
      "execution_count": 29,
      "metadata": {
        "id": "3xJdl1sPyslO"
      },
      "outputs": [
        {
          "data": {
            "text/plain": [
              "32.204207968574636"
            ]
          },
          "execution_count": 29,
          "metadata": {},
          "output_type": "execute_result"
        }
      ],
      "source": [
        "data['Fare'].mean()"
      ]
    },
    {
      "cell_type": "markdown",
      "metadata": {
        "id": "ymP0KNguys6O"
      },
      "source": [
        "¿Cuál es el precio promedio que se pagó en cada Categoría? (Pclass) "
      ]
    },
    {
      "cell_type": "code",
      "execution_count": 33,
      "metadata": {
        "id": "GergHdmdy_lj"
      },
      "outputs": [
        {
          "data": {
            "text/html": [
              "<div>\n",
              "<style scoped>\n",
              "    .dataframe tbody tr th:only-of-type {\n",
              "        vertical-align: middle;\n",
              "    }\n",
              "\n",
              "    .dataframe tbody tr th {\n",
              "        vertical-align: top;\n",
              "    }\n",
              "\n",
              "    .dataframe thead th {\n",
              "        text-align: right;\n",
              "    }\n",
              "</style>\n",
              "<table border=\"1\" class=\"dataframe\">\n",
              "  <thead>\n",
              "    <tr style=\"text-align: right;\">\n",
              "      <th></th>\n",
              "      <th>Fare</th>\n",
              "    </tr>\n",
              "    <tr>\n",
              "      <th>Pclass</th>\n",
              "      <th></th>\n",
              "    </tr>\n",
              "  </thead>\n",
              "  <tbody>\n",
              "    <tr>\n",
              "      <th>1</th>\n",
              "      <td>84.154687</td>\n",
              "    </tr>\n",
              "    <tr>\n",
              "      <th>2</th>\n",
              "      <td>20.662183</td>\n",
              "    </tr>\n",
              "    <tr>\n",
              "      <th>3</th>\n",
              "      <td>13.675550</td>\n",
              "    </tr>\n",
              "  </tbody>\n",
              "</table>\n",
              "</div>"
            ],
            "text/plain": [
              "             Fare\n",
              "Pclass           \n",
              "1       84.154687\n",
              "2       20.662183\n",
              "3       13.675550"
            ]
          },
          "execution_count": 33,
          "metadata": {},
          "output_type": "execute_result"
        }
      ],
      "source": [
        "data[['Fare','Pclass']].groupby(\"Pclass\").mean()"
      ]
    },
    {
      "cell_type": "markdown",
      "metadata": {
        "id": "cu4lKAV0zAC_"
      },
      "source": [
        "Construir una Tabla de Contingencia usando Genero (Sex) y Categoría (Pclass) para calcular el porcentaje de supervivencia"
      ]
    },
    {
      "cell_type": "code",
      "execution_count": 34,
      "metadata": {
        "id": "82XuNR8Jz5pH"
      },
      "outputs": [
        {
          "data": {
            "text/html": [
              "<div>\n",
              "<style scoped>\n",
              "    .dataframe tbody tr th:only-of-type {\n",
              "        vertical-align: middle;\n",
              "    }\n",
              "\n",
              "    .dataframe tbody tr th {\n",
              "        vertical-align: top;\n",
              "    }\n",
              "\n",
              "    .dataframe thead th {\n",
              "        text-align: right;\n",
              "    }\n",
              "</style>\n",
              "<table border=\"1\" class=\"dataframe\">\n",
              "  <thead>\n",
              "    <tr style=\"text-align: right;\">\n",
              "      <th>Pclass</th>\n",
              "      <th>1</th>\n",
              "      <th>2</th>\n",
              "      <th>3</th>\n",
              "    </tr>\n",
              "    <tr>\n",
              "      <th>Sex</th>\n",
              "      <th></th>\n",
              "      <th></th>\n",
              "      <th></th>\n",
              "    </tr>\n",
              "  </thead>\n",
              "  <tbody>\n",
              "    <tr>\n",
              "      <th>female</th>\n",
              "      <td>0.968085</td>\n",
              "      <td>0.921053</td>\n",
              "      <td>0.500000</td>\n",
              "    </tr>\n",
              "    <tr>\n",
              "      <th>male</th>\n",
              "      <td>0.368852</td>\n",
              "      <td>0.157407</td>\n",
              "      <td>0.135447</td>\n",
              "    </tr>\n",
              "  </tbody>\n",
              "</table>\n",
              "</div>"
            ],
            "text/plain": [
              "Pclass         1         2         3\n",
              "Sex                                 \n",
              "female  0.968085  0.921053  0.500000\n",
              "male    0.368852  0.157407  0.135447"
            ]
          },
          "execution_count": 34,
          "metadata": {},
          "output_type": "execute_result"
        }
      ],
      "source": [
        "pd.crosstab(data.Sex, data.Pclass, values=data.Survived, aggfunc=np.mean)"
      ]
    },
    {
      "cell_type": "markdown",
      "metadata": {
        "id": "ZmhxdUk4z4-Z"
      },
      "source": [
        "Construir una Tabla de Contingencia usando el Genero y el precio de un Ticket en 5 rangos para calcular el porcentaje de supervivencia"
      ]
    },
    {
      "cell_type": "code",
      "execution_count": 37,
      "metadata": {
        "id": "0fqPQxbU0R4e"
      },
      "outputs": [
        {
          "data": {
            "text/html": [
              "<div>\n",
              "<style scoped>\n",
              "    .dataframe tbody tr th:only-of-type {\n",
              "        vertical-align: middle;\n",
              "    }\n",
              "\n",
              "    .dataframe tbody tr th {\n",
              "        vertical-align: top;\n",
              "    }\n",
              "\n",
              "    .dataframe thead th {\n",
              "        text-align: right;\n",
              "    }\n",
              "</style>\n",
              "<table border=\"1\" class=\"dataframe\">\n",
              "  <thead>\n",
              "    <tr style=\"text-align: right;\">\n",
              "      <th>Sex</th>\n",
              "      <th>female</th>\n",
              "      <th>male</th>\n",
              "    </tr>\n",
              "    <tr>\n",
              "      <th>Fare</th>\n",
              "      <th></th>\n",
              "      <th></th>\n",
              "    </tr>\n",
              "  </thead>\n",
              "  <tbody>\n",
              "    <tr>\n",
              "      <th>(-0.001, 7.854]</th>\n",
              "      <td>0.684211</td>\n",
              "      <td>0.092199</td>\n",
              "    </tr>\n",
              "    <tr>\n",
              "      <th>(7.854, 10.5]</th>\n",
              "      <td>0.527778</td>\n",
              "      <td>0.121622</td>\n",
              "    </tr>\n",
              "    <tr>\n",
              "      <th>(10.5, 21.679]</th>\n",
              "      <td>0.701299</td>\n",
              "      <td>0.200000</td>\n",
              "    </tr>\n",
              "    <tr>\n",
              "      <th>(21.679, 39.688]</th>\n",
              "      <td>0.685714</td>\n",
              "      <td>0.290909</td>\n",
              "    </tr>\n",
              "    <tr>\n",
              "      <th>(39.688, 512.329]</th>\n",
              "      <td>0.924731</td>\n",
              "      <td>0.325301</td>\n",
              "    </tr>\n",
              "  </tbody>\n",
              "</table>\n",
              "</div>"
            ],
            "text/plain": [
              "Sex                  female      male\n",
              "Fare                                 \n",
              "(-0.001, 7.854]    0.684211  0.092199\n",
              "(7.854, 10.5]      0.527778  0.121622\n",
              "(10.5, 21.679]     0.701299  0.200000\n",
              "(21.679, 39.688]   0.685714  0.290909\n",
              "(39.688, 512.329]  0.924731  0.325301"
            ]
          },
          "execution_count": 37,
          "metadata": {},
          "output_type": "execute_result"
        }
      ],
      "source": [
        "pd.crosstab(pd.qcut(data.Fare, 5), data.Sex, values=data.Survived, aggfunc=np.mean)"
      ]
    },
    {
      "cell_type": "markdown",
      "metadata": {
        "id": "DMdZ29YnQoMk"
      },
      "source": [
        "Graficar el porcentaje de supervivencia por Categoría y Género"
      ]
    },
    {
      "cell_type": "code",
      "execution_count": 42,
      "metadata": {
        "id": "eJLFTyTnQm_C"
      },
      "outputs": [
        {
          "data": {
            "text/plain": [
              "<Axes: xlabel='Pclass'>"
            ]
          },
          "execution_count": 42,
          "metadata": {},
          "output_type": "execute_result"
        },
        {
          "data": {
            "image/png": "[encoded data removed]",
            "text/plain": [
              "<Figure size 432x288 with 1 Axes>"
            ]
          },
          "metadata": {
            "needs_background": "light"
          },
          "output_type": "display_data"
        }
      ],
      "source": [
        "pd.crosstab(data.Pclass, data.Sex, values=data.Survived, aggfunc=np.mean).plot.bar()"
      ]
    }
  ],
  "metadata": {
    "colab": {
      "name": "03_manejo_de_datos-pandas2.ipynb",
      "provenance": []
    },
    "interpreter": {
      "hash": "a6437847c4f061d7d98f8ece1357b6ab6d7bfc023b0092983a68f4b4033749c0"
    },
    "kernelspec": {
      "display_name": "Python 3.8.5 64-bit ('base': conda)",
      "name": "python3"
    },
    "language_info": {
      "codemirror_mode": {
        "name": "ipython",
        "version": 3
      },
      "file_extension": ".py",
      "mimetype": "text/x-python",
      "name": "python",
      "nbconvert_exporter": "python",
      "pygments_lexer": "ipython3",
      "version": "3.10.12"
    },
    "orig_nbformat": 2
  },
  "nbformat": 4,
  "nbformat_minor": 2
}
