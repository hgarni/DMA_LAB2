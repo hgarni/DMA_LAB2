{
  "cells": [
    {
      "cell_type": "markdown",
      "metadata": {
        "colab_type": "text",
        "id": "view-in-github"
      },
      "source": [
        "<a href=\"https://colab.research.google.com/github/Argentan/DMA_LAB2/blob/master/tutoriales/03_manejo_de_datos-numpy.ipynb\" target=\"_parent\"><img src=\"https://colab.research.google.com/assets/colab-badge.svg\" alt=\"Open In Colab\"/></a>"
      ]
    },
    {
      "cell_type": "markdown",
      "metadata": {
        "colab_type": "text",
        "id": "XqMGDUP6xLQ-"
      },
      "source": [
        "<a href=\"https://colab.research.google.com/github/Argentan/DMA_LAB2/blob/master/tutoriales/03_manejo_de_datos-numpy.ipynb\" target=\"_parent\"><img src=\"https://colab.research.google.com/assets/colab-badge.svg\" alt=\"Open In Colab\"/></a>"
      ]
    },
    {
      "cell_type": "markdown",
      "metadata": {
        "colab_type": "text",
        "id": "OsgacXmFyHre"
      },
      "source": [
        "# Repaso de Listas"
      ]
    },
    {
      "cell_type": "code",
      "execution_count": 1,
      "metadata": {
        "colab": {},
        "colab_type": "code",
        "id": "0JwB1omFyKc4"
      },
      "outputs": [],
      "source": [
        "b = [1,2,3]"
      ]
    },
    {
      "cell_type": "markdown",
      "metadata": {
        "colab_type": "text",
        "id": "Lugr9KHwyUGZ"
      },
      "source": [
        "Aplicando Operadores Matemáticos a Listas"
      ]
    },
    {
      "cell_type": "code",
      "execution_count": null,
      "metadata": {
        "colab": {},
        "colab_type": "code",
        "id": "2pzuaAdMyMVz"
      },
      "outputs": [],
      "source": [
        "b + b"
      ]
    },
    {
      "cell_type": "code",
      "execution_count": null,
      "metadata": {
        "colab": {},
        "colab_type": "code",
        "id": "wJfuwm32yP3K"
      },
      "outputs": [],
      "source": [
        "b * 4"
      ]
    },
    {
      "cell_type": "markdown",
      "metadata": {
        "colab_type": "text",
        "id": "BuLegKfqyXti"
      },
      "source": [
        "Solución? For Loops?"
      ]
    },
    {
      "cell_type": "code",
      "execution_count": null,
      "metadata": {
        "colab": {},
        "colab_type": "code",
        "id": "HzUrLTNkyaEI"
      },
      "outputs": [],
      "source": [
        "for elemento in b:\n",
        "    print(elemento)"
      ]
    },
    {
      "cell_type": "code",
      "execution_count": null,
      "metadata": {
        "colab": {},
        "colab_type": "code",
        "id": "6I8HjEjKyea7"
      },
      "outputs": [],
      "source": [
        "for elemento in b:\n",
        "    print(elemento + elemento)"
      ]
    },
    {
      "cell_type": "markdown",
      "metadata": {
        "colab_type": "text",
        "id": "0JPqEG49yifH"
      },
      "source": [
        "Y si lo quiero guardar en otra variable (por ejemplo 'c = b+b')?\n",
        "\n",
        "Una forma es:\n",
        "* Definir un array vacio\n",
        "* recorrer todos los elementos en b\n",
        "* sumarlos entre si y meterlos dentro de una lista ([elemento + elemento])\n",
        "* sumar esta lista a 'c' (**c \\+= algo** es lo mismo que **c = c + algo**)"
      ]
    },
    {
      "cell_type": "code",
      "execution_count": null,
      "metadata": {
        "colab": {},
        "colab_type": "code",
        "id": "XT--J06nyj0u"
      },
      "outputs": [],
      "source": [
        "c = []\n",
        "for elemento in b:\n",
        "    c += [elemento + elemento]\n",
        "c"
      ]
    },
    {
      "cell_type": "code",
      "execution_count": null,
      "metadata": {
        "colab": {},
        "colab_type": "code",
        "id": "IAqPnmQUyoW0"
      },
      "outputs": [],
      "source": [
        "c = []\n",
        "for elemento in b:\n",
        "    c += [elemento * 4]\n",
        "c"
      ]
    },
    {
      "cell_type": "markdown",
      "metadata": {
        "colab_type": "text",
        "id": "_3gakFJLy645"
      },
      "source": [
        "Alternativa??"
      ]
    },
    {
      "cell_type": "markdown",
      "metadata": {
        "colab_type": "text",
        "id": "OBpD3Ve7xLRE"
      },
      "source": [
        "# Librería Numpy\n",
        "\n",
        "Es el paquete de arrays mas comunmente usado en Python. La diferencia entre un array y una lista nativa es que el array es continuo en memoria mientras que la lista esta encadenada, haciendo que el array sea mucho mas rapido de leer y, por tanto, la estructura de datos natural para el procesamiento de grandes cantidades de datos"
      ]
    },
    {
      "cell_type": "code",
      "execution_count": 2,
      "metadata": {
        "colab": {},
        "colab_type": "code",
        "id": "D99BOYgHxLRH"
      },
      "outputs": [],
      "source": [
        "import numpy as np"
      ]
    },
    {
      "cell_type": "code",
      "execution_count": 4,
      "metadata": {
        "colab": {},
        "colab_type": "code",
        "id": "E7u8knbdxLRP"
      },
      "outputs": [
        {
          "data": {
            "text/plain": [
              "array([1, 2, 3, 4])"
            ]
          },
          "execution_count": 4,
          "metadata": {},
          "output_type": "execute_result"
        }
      ],
      "source": [
        "arr1 = np.array([1,2,3,4])\n",
        "arr1"
      ]
    },
    {
      "cell_type": "code",
      "execution_count": 5,
      "metadata": {
        "colab": {},
        "colab_type": "code",
        "id": "PoOFReZaxLRW"
      },
      "outputs": [
        {
          "data": {
            "text/plain": [
              "numpy.ndarray"
            ]
          },
          "execution_count": 5,
          "metadata": {},
          "output_type": "execute_result"
        }
      ],
      "source": [
        "type(arr1)"
      ]
    },
    {
      "cell_type": "code",
      "execution_count": 6,
      "metadata": {
        "colab": {},
        "colab_type": "code",
        "id": "-0haq5JBxLRa"
      },
      "outputs": [
        {
          "data": {
            "text/plain": [
              "array([2, 4, 6, 8])"
            ]
          },
          "execution_count": 6,
          "metadata": {},
          "output_type": "execute_result"
        }
      ],
      "source": [
        "arr1 + arr1"
      ]
    },
    {
      "cell_type": "code",
      "execution_count": 7,
      "metadata": {
        "colab": {},
        "colab_type": "code",
        "id": "XJMIrfXuxLRi"
      },
      "outputs": [
        {
          "data": {
            "text/plain": [
              "array([1., 1., 1., 1.])"
            ]
          },
          "execution_count": 7,
          "metadata": {},
          "output_type": "execute_result"
        }
      ],
      "source": [
        "arr1 / arr1"
      ]
    },
    {
      "cell_type": "code",
      "execution_count": 8,
      "metadata": {
        "colab": {},
        "colab_type": "code",
        "id": "RnchQO25xLRr"
      },
      "outputs": [
        {
          "data": {
            "text/plain": [
              "array([101, 102, 103, 104])"
            ]
          },
          "execution_count": 8,
          "metadata": {},
          "output_type": "execute_result"
        }
      ],
      "source": [
        "arr1 + 100"
      ]
    },
    {
      "cell_type": "markdown",
      "metadata": {
        "colab_type": "text",
        "id": "An3VYAhU_PAR"
      },
      "source": [
        "## Dimensiones\n",
        "\n",
        "Los arrays de numpy pueden ser unidimensionales (1D), bidimensionales (2D) o cuantas dimensiones quieran.\n"
      ]
    },
    {
      "cell_type": "code",
      "execution_count": 9,
      "metadata": {
        "colab": {},
        "colab_type": "code",
        "id": "GLIB9jK4_PAR"
      },
      "outputs": [],
      "source": [
        "data = np.round( np.random.rand(3,5) * 100 )"
      ]
    },
    {
      "cell_type": "code",
      "execution_count": 10,
      "metadata": {
        "colab": {},
        "colab_type": "code",
        "id": "zxbAMqfH_PAU"
      },
      "outputs": [
        {
          "data": {
            "text/plain": [
              "array([[24., 39., 63.,  9., 29.],\n",
              "       [55., 84., 47., 20.,  7.],\n",
              "       [33., 73.,  3., 95., 92.]])"
            ]
          },
          "execution_count": 10,
          "metadata": {},
          "output_type": "execute_result"
        }
      ],
      "source": [
        "data"
      ]
    },
    {
      "cell_type": "code",
      "execution_count": 11,
      "metadata": {
        "colab": {},
        "colab_type": "code",
        "id": "FmWupwhp_PAX"
      },
      "outputs": [
        {
          "data": {
            "text/plain": [
              "array([[ 48.,  78., 126.,  18.,  58.],\n",
              "       [110., 168.,  94.,  40.,  14.],\n",
              "       [ 66., 146.,   6., 190., 184.]])"
            ]
          },
          "execution_count": 11,
          "metadata": {},
          "output_type": "execute_result"
        }
      ],
      "source": [
        "data * 2"
      ]
    },
    {
      "cell_type": "markdown",
      "metadata": {
        "colab_type": "text",
        "id": "gM_zQL58_PAc"
      },
      "source": [
        "Tamaño de 'data'"
      ]
    },
    {
      "cell_type": "code",
      "execution_count": 12,
      "metadata": {
        "colab": {},
        "colab_type": "code",
        "id": "YMs7J2pM_PAc"
      },
      "outputs": [
        {
          "data": {
            "text/plain": [
              "(3, 5)"
            ]
          },
          "execution_count": 12,
          "metadata": {},
          "output_type": "execute_result"
        }
      ],
      "source": [
        "data.shape"
      ]
    },
    {
      "cell_type": "markdown",
      "metadata": {
        "colab_type": "text",
        "id": "FPOowyKpxLR0"
      },
      "source": [
        "## Indexado\n",
        "\n",
        "El indexado en los ndarray funciona igual que el indexado de listas\n",
        "\n",
        "Los elementos de una ndarray se pueden acceder mediante su indice\n",
        "\n",
        "* Todos los indices empiezan en 0\n",
        "* Se usan numeros enteros\n",
        "* El indice maximo equivale a la (cantidad de elementos - 1)\n",
        "* Se accede al elemento con *indice*\n",
        "* Si el indice es negativo, se cuenta desde el final\n",
        "* Se puede hacer \"slicing\" con rangos de indices separados por dos puntos (:)\n",
        "* Se pueden usar indices negativos que cuentan desde atrás pero empezando en -1"
      ]
    },
    {
      "cell_type": "code",
      "execution_count": 13,
      "metadata": {
        "colab": {},
        "colab_type": "code",
        "id": "Rp5wPcNExLR2"
      },
      "outputs": [
        {
          "data": {
            "text/plain": [
              "1"
            ]
          },
          "execution_count": 13,
          "metadata": {},
          "output_type": "execute_result"
        }
      ],
      "source": [
        "arr1[0]"
      ]
    },
    {
      "cell_type": "code",
      "execution_count": 14,
      "metadata": {
        "colab": {},
        "colab_type": "code",
        "id": "ClJghAFvxLR-"
      },
      "outputs": [
        {
          "data": {
            "text/plain": [
              "4"
            ]
          },
          "execution_count": 14,
          "metadata": {},
          "output_type": "execute_result"
        }
      ],
      "source": [
        "arr1[3]"
      ]
    },
    {
      "cell_type": "code",
      "execution_count": 15,
      "metadata": {
        "colab": {},
        "colab_type": "code",
        "id": "GXBMPBmkxLSF"
      },
      "outputs": [
        {
          "ename": "IndexError",
          "evalue": "index 4 is out of bounds for axis 0 with size 4",
          "output_type": "error",
          "traceback": [
            "\u001b[1;31m---------------------------------------------------------------------------\u001b[0m",
            "\u001b[1;31mIndexError\u001b[0m                                Traceback (most recent call last)",
            "Cell \u001b[1;32mIn[15], line 1\u001b[0m\n\u001b[1;32m----> 1\u001b[0m arr1[\u001b[39mlen\u001b[39m(arr1)]\n",
            "\u001b[1;31mIndexError\u001b[0m: index 4 is out of bounds for axis 0 with size 4"
          ]
        }
      ],
      "source": [
        "arr1[len(arr1)]"
      ]
    },
    {
      "cell_type": "code",
      "execution_count": 16,
      "metadata": {
        "colab": {},
        "colab_type": "code",
        "id": "HNv5-mFOxLSM"
      },
      "outputs": [
        {
          "data": {
            "text/plain": [
              "4"
            ]
          },
          "execution_count": 16,
          "metadata": {},
          "output_type": "execute_result"
        }
      ],
      "source": [
        "arr1[len(arr1) - 1]"
      ]
    },
    {
      "cell_type": "code",
      "execution_count": 17,
      "metadata": {
        "colab": {},
        "colab_type": "code",
        "id": "3aRTKTMfxLSU"
      },
      "outputs": [
        {
          "data": {
            "text/plain": [
              "4"
            ]
          },
          "execution_count": 17,
          "metadata": {},
          "output_type": "execute_result"
        }
      ],
      "source": [
        "arr1[-1]"
      ]
    },
    {
      "cell_type": "code",
      "execution_count": 18,
      "metadata": {
        "colab": {},
        "colab_type": "code",
        "id": "-OnL7X7qxLSc"
      },
      "outputs": [],
      "source": [
        "arr2d = np.array([[1, 2, 3],\n",
        "                  [4, 5, 6],\n",
        "                  [7, 8, 9]])"
      ]
    },
    {
      "cell_type": "code",
      "execution_count": 19,
      "metadata": {
        "colab": {},
        "colab_type": "code",
        "id": "CdWsf_fPxLSp"
      },
      "outputs": [
        {
          "data": {
            "text/plain": [
              "array([[1, 2, 3],\n",
              "       [4, 5, 6],\n",
              "       [7, 8, 9]])"
            ]
          },
          "execution_count": 19,
          "metadata": {},
          "output_type": "execute_result"
        }
      ],
      "source": [
        "arr2d"
      ]
    },
    {
      "cell_type": "code",
      "execution_count": 20,
      "metadata": {
        "colab": {},
        "colab_type": "code",
        "id": "d0BOY-y5xLSv"
      },
      "outputs": [
        {
          "data": {
            "text/plain": [
              "array([[1, 2, 3]])"
            ]
          },
          "execution_count": 20,
          "metadata": {},
          "output_type": "execute_result"
        }
      ],
      "source": [
        "arr2d[:1]"
      ]
    },
    {
      "cell_type": "code",
      "execution_count": 21,
      "metadata": {
        "colab": {},
        "colab_type": "code",
        "id": "59bha9y-xLS2"
      },
      "outputs": [
        {
          "data": {
            "text/plain": [
              "array([[1, 2, 3],\n",
              "       [4, 5, 6]])"
            ]
          },
          "execution_count": 21,
          "metadata": {},
          "output_type": "execute_result"
        }
      ],
      "source": [
        "arr2d[:2, :]"
      ]
    },
    {
      "cell_type": "code",
      "execution_count": 22,
      "metadata": {
        "colab": {},
        "colab_type": "code",
        "id": "m-EcqOEJxLS5"
      },
      "outputs": [
        {
          "data": {
            "text/plain": [
              "array([4, 5])"
            ]
          },
          "execution_count": 22,
          "metadata": {},
          "output_type": "execute_result"
        }
      ],
      "source": [
        "arr2d[1, :2]"
      ]
    },
    {
      "cell_type": "code",
      "execution_count": 23,
      "metadata": {
        "colab": {},
        "colab_type": "code",
        "id": "KbO7RdGtxLS8"
      },
      "outputs": [
        {
          "data": {
            "text/plain": [
              "array([2, 5, 8])"
            ]
          },
          "execution_count": 23,
          "metadata": {},
          "output_type": "execute_result"
        }
      ],
      "source": [
        "arr2d[:, 1]"
      ]
    },
    {
      "cell_type": "markdown",
      "metadata": {
        "colab_type": "text",
        "id": "aBsjHncpxLTA"
      },
      "source": [
        "## Funciones de agregación\n",
        "\n",
        "Suelen expresarse como métodos del objeto array. En general, tienen como consecuencia disminuir las dimensiones del arreglo y son muy utilizados en matemáticas y física. <br>\n",
        "La siguiente tabla muestra los más utilizados, puede encontrar la documentación [aquí](https://docs.scipy.org/doc/numpy-1.13.0/reference/arrays.ndarray.html#calculation).\n",
        "\n",
        "| Operación | Descripción |\n",
        "|:----------|:------------|\n",
        "| `a.sum()`    | Retorna la suma del arreglo en el eje dado |\n",
        "| `a.min()`    | Retorna el valor mínimo de un eje |\n",
        "| `a.mean()`   | Retorna la media aritmética en un eje dado |\n",
        "| `a.var()`    | Retorna la varianza en un eje dado|\n",
        "| `a.std()`    | Retorna la desviación estándar en un eje dado |\n",
        "| `a.prod()`   | Retorna el producto en un eje dado |\n",
        "| `a.argmin()` | Retorna el índice donde ocurren los valores mínimos de cada eje |\n",
        "| `a.ptp()`    | Valor pico a pico en un eje |\n",
        "| `a.conj()`   | Retorna el conjugado complejo de todos los elementos |\n",
        "| `a.round()`  | Retorna el valor redondeado de cada elemento |\n",
        "| `a.trace()`  | Retorna la suma de las diagonales del arreglo |\n",
        "| `a.argmax()` | Retorna el índice donde ocurren los valores máximos de cada eje |\n",
        "| `a.cumsum()` | Retorna la suma acumulativa en un eje dado |\n",
        "| `a.cumprod()`| Retorna el producto acumulativo en un eje dado |"
      ]
    },
    {
      "cell_type": "code",
      "execution_count": 24,
      "metadata": {
        "colab": {},
        "colab_type": "code",
        "id": "sIRZ_CsvxLTA"
      },
      "outputs": [
        {
          "data": {
            "text/plain": [
              "2.5"
            ]
          },
          "execution_count": 24,
          "metadata": {},
          "output_type": "execute_result"
        }
      ],
      "source": [
        "arr1.mean()"
      ]
    },
    {
      "cell_type": "code",
      "execution_count": 25,
      "metadata": {
        "colab": {},
        "colab_type": "code",
        "id": "MZrPXcATxLTE"
      },
      "outputs": [
        {
          "data": {
            "text/plain": [
              "1.118033988749895"
            ]
          },
          "execution_count": 25,
          "metadata": {},
          "output_type": "execute_result"
        }
      ],
      "source": [
        "arr1.std()"
      ]
    },
    {
      "cell_type": "code",
      "execution_count": 26,
      "metadata": {
        "colab": {},
        "colab_type": "code",
        "id": "WXIKvNdlxLTH"
      },
      "outputs": [
        {
          "data": {
            "text/plain": [
              "(4,)"
            ]
          },
          "execution_count": 26,
          "metadata": {},
          "output_type": "execute_result"
        }
      ],
      "source": [
        "arr1.shape"
      ]
    },
    {
      "cell_type": "code",
      "execution_count": 27,
      "metadata": {
        "colab": {},
        "colab_type": "code",
        "id": "pT9GKcSVxLTL"
      },
      "outputs": [
        {
          "data": {
            "text/plain": [
              "4"
            ]
          },
          "execution_count": 27,
          "metadata": {},
          "output_type": "execute_result"
        }
      ],
      "source": [
        "arr1.size"
      ]
    },
    {
      "cell_type": "code",
      "execution_count": 28,
      "metadata": {
        "colab": {},
        "colab_type": "code",
        "id": "v9DveLnvxLTP"
      },
      "outputs": [
        {
          "data": {
            "text/plain": [
              "array([[1., 1., 1.],\n",
              "       [1., 1., 1.]])"
            ]
          },
          "execution_count": 28,
          "metadata": {},
          "output_type": "execute_result"
        }
      ],
      "source": [
        "arr2 = np.ones((2, 3))\n",
        "arr2"
      ]
    },
    {
      "cell_type": "code",
      "execution_count": 29,
      "metadata": {
        "colab": {},
        "colab_type": "code",
        "id": "4qiq5xJQ8LW6"
      },
      "outputs": [
        {
          "data": {
            "text/plain": [
              "3"
            ]
          },
          "execution_count": 29,
          "metadata": {},
          "output_type": "execute_result"
        }
      ],
      "source": [
        "arr1.argmax()"
      ]
    },
    {
      "cell_type": "code",
      "execution_count": 30,
      "metadata": {
        "colab": {},
        "colab_type": "code",
        "id": "U83l3jIVxLTS"
      },
      "outputs": [
        {
          "data": {
            "text/plain": [
              "(2, 3)"
            ]
          },
          "execution_count": 30,
          "metadata": {},
          "output_type": "execute_result"
        }
      ],
      "source": [
        "arr2.shape"
      ]
    },
    {
      "cell_type": "code",
      "execution_count": null,
      "metadata": {
        "colab": {},
        "colab_type": "code",
        "id": "3bciJC6QxLTW"
      },
      "outputs": [],
      "source": [
        "arr2.size"
      ]
    },
    {
      "cell_type": "code",
      "execution_count": null,
      "metadata": {
        "colab": {},
        "colab_type": "code",
        "id": "6v-j-IwDxLTZ"
      },
      "outputs": [],
      "source": [
        "len(arr2)"
      ]
    },
    {
      "cell_type": "markdown",
      "metadata": {
        "colab_type": "text",
        "id": "dtsSUUSXxLTd"
      },
      "source": [
        "## Funciones universales\n",
        "\n",
        "Son funciones optimizadas que operan sobre el array. Dificilmente vamos a necesitar hacer algo que no este ya implementado, la lista completa de funciones universales en este [enlace](https://docs.scipy.org/doc/numpy-1.13.0/reference/ufuncs.html#math-operations)"
      ]
    },
    {
      "cell_type": "markdown",
      "metadata": {
        "colab_type": "text",
        "id": "ULGS-Qy6xLTd"
      },
      "source": [
        "### Funciones para crear ndarrays\n",
        "\n",
        "Hay muchas formas de crear arreglos en Numpy, puede explorarlas todas en este [enlace](https://docs.scipy.org/doc/numpy-1.13.0/reference/routines.array-creation.html). Las más comunes son:\n",
        "\n",
        "| Función | Descripción |\n",
        "|:--------|:------------|\n",
        "| `empty` | Arreglo vacio |\n",
        "| `zeros` | Arreglo de ceros |\n",
        "| `ones`  | Arreglo de unos |\n",
        "| `full`  | Se especifica un valor para llenar todo el arreglo con él |\n",
        "| `identity` | Unos en la diagonal y cero en el resto |\n",
        "| `array` | Constructor genérico |\n",
        "| `fromfunction` | Según una función dada que retorna un valor para cada punto de la coordenada |\n",
        "| `loadtxt` | Carga los datos de un archivo |"
      ]
    },
    {
      "cell_type": "code",
      "execution_count": 34,
      "metadata": {
        "colab": {},
        "colab_type": "code",
        "id": "3oqmmTcMxLTe"
      },
      "outputs": [
        {
          "data": {
            "text/plain": [
              "array([1., 1., 1.])"
            ]
          },
          "execution_count": 34,
          "metadata": {},
          "output_type": "execute_result"
        }
      ],
      "source": [
        "np.ones(3)"
      ]
    },
    {
      "cell_type": "code",
      "execution_count": null,
      "metadata": {
        "colab": {},
        "colab_type": "code",
        "id": "py63Pi48xLTh"
      },
      "outputs": [],
      "source": [
        "np.full([2,5], fill_value=10)"
      ]
    },
    {
      "cell_type": "markdown",
      "metadata": {
        "colab_type": "text",
        "id": "SYvqbJHa4U5b"
      },
      "source": [
        "\n",
        "\n",
        "1.   Crear un array de 100 números aleatorios con valores de -100 a +100. \n",
        "\n",
        "\n",
        "\n",
        "\n",
        "\n"
      ]
    },
    {
      "cell_type": "markdown",
      "metadata": {
        "colab_type": "text",
        "id": "we6fyUhF4TU8"
      },
      "source": [
        "# Ejercicios"
      ]
    },
    {
      "cell_type": "code",
      "execution_count": 78,
      "metadata": {
        "colab": {},
        "colab_type": "code",
        "id": "u5qG2KWP4pel"
      },
      "outputs": [
        {
          "data": {
            "text/plain": [
              "array([ -45,  -48,   43,   17,   33,    2,   77,  -70,  -66,  -94,  -97,\n",
              "         11,    2,   47,   -4,  -73,  -78,  -36,  -63,   76,   78,    1,\n",
              "        -36,  -24,  -24,   67,  -37,   11,  -25,   88,   76,   -1,   74,\n",
              "        -12,    0,   -4,   14,  -13,   -7,  -63,  -62,  -26,  -41,  -10,\n",
              "         40,  -68,  -82,  -44,   71,    4,   32,    2,  -61,   42,  -25,\n",
              "         61,   57,   16,   -9,  -90,   32,   37,  -99,  -73,  -78,   57,\n",
              "        -23,   99,  -36,  -77, -100,  -86,   67,   50,  -56,   11,  -68,\n",
              "        -12,   55,   44,   14,   85,   18,  -32,  -32,   84,   -8,  -11,\n",
              "         25,   70,   29,  -22,   28,   -5,  -78,  -16,   14,   21,  -83,\n",
              "        -38])"
            ]
          },
          "execution_count": 78,
          "metadata": {},
          "output_type": "execute_result"
        }
      ],
      "source": [
        "import numpy as np\n",
        "a = np.random.randint(-100, 100, size=100)\n",
        "a"
      ]
    },
    {
      "cell_type": "markdown",
      "metadata": {
        "colab_type": "text",
        "id": "v1F35TCC4qAv"
      },
      "source": [
        "\n",
        "2.   Usando arrays de booleanos crear otros 3 arrays que contengan los positivos, los negativos y los mayores de 50 de ese array."
      ]
    },
    {
      "cell_type": "code",
      "execution_count": 54,
      "metadata": {
        "colab": {},
        "colab_type": "code",
        "id": "yc_DUCQn4q2V"
      },
      "outputs": [
        {
          "data": {
            "text/plain": [
              "array([64, 81, 90, 97, 77, 92, 98, 60, 98, 89, 74, 60, 92, 64, 92, 96, 63,\n",
              "       70, 59, 80, 98, 76, 66, 55, 87, 60, 64, 57, 76, 81, 87, 77, 78, 57,\n",
              "       68, 86])"
            ]
          },
          "execution_count": 54,
          "metadata": {},
          "output_type": "execute_result"
        }
      ],
      "source": [
        "pos = a[a> 0] \n",
        "neg = a[a<0]\n",
        "mayor50 = a[a>50]"
      ]
    },
    {
      "cell_type": "markdown",
      "metadata": {
        "colab_type": "text",
        "id": "zg5a3cB54zgf"
      },
      "source": [
        "3.   Crear un array bidimensional 5x5 con todos los valores cero. Usando el indexado de arrays, asigna 1 a todos los elementos de la última fila y 5 a todos los elementos de la primera columna. Finalmente, asigna el valor 100 a todos los elementos del subarray central 3x3 de la matriz de 5x5."
      ]
    },
    {
      "cell_type": "code",
      "execution_count": 100,
      "metadata": {
        "colab": {},
        "colab_type": "code",
        "id": "eNxFHLgI7aAH"
      },
      "outputs": [
        {
          "data": {
            "text/plain": [
              "array([[5., 0., 0., 0., 0.],\n",
              "       [5., 0., 0., 0., 0.],\n",
              "       [5., 0., 0., 0., 0.],\n",
              "       [5., 0., 0., 0., 0.],\n",
              "       [5., 1., 1., 1., 1.]])"
            ]
          },
          "execution_count": 100,
          "metadata": {},
          "output_type": "execute_result"
        }
      ],
      "source": [
        "a = np.zeros([5,5])\n",
        "a[-1] = 1\n",
        "\n",
        "a[:,0] = 5\n",
        "a"
      ]
    },
    {
      "cell_type": "markdown",
      "metadata": {
        "colab_type": "text",
        "id": "K3b5dKsn7jEO"
      },
      "source": [
        "4.   Crear una matriz de 10 x 3 con valores aleatorios entre cero y uno\n",
        "\n"
      ]
    },
    {
      "cell_type": "code",
      "execution_count": 70,
      "metadata": {
        "colab": {},
        "colab_type": "code",
        "id": "bXR3mAkY7xJr"
      },
      "outputs": [],
      "source": [
        "import numpy as np\n",
        "a = np.random.rand(10,3)\n"
      ]
    },
    {
      "cell_type": "markdown",
      "metadata": {
        "colab_type": "text",
        "id": "oMjbP0N07xhf"
      },
      "source": [
        "\n",
        "5.   Buscar el valor mínimo de la matriz"
      ]
    },
    {
      "cell_type": "code",
      "execution_count": 72,
      "metadata": {
        "colab": {},
        "colab_type": "code",
        "id": "kMBMIAlr73Az"
      },
      "outputs": [
        {
          "data": {
            "text/plain": [
              "0.001826190203936373"
            ]
          },
          "execution_count": 72,
          "metadata": {},
          "output_type": "execute_result"
        }
      ],
      "source": [
        "a.min()"
      ]
    },
    {
      "cell_type": "markdown",
      "metadata": {
        "colab_type": "text",
        "id": "XAW8IQgO73WL"
      },
      "source": [
        "6.   Buscar la posición (indice) del valor mínimo de la matriz"
      ]
    },
    {
      "cell_type": "code",
      "execution_count": 74,
      "metadata": {
        "colab": {},
        "colab_type": "code",
        "id": "iaMPaBPw77QZ"
      },
      "outputs": [
        {
          "data": {
            "text/plain": [
              "16"
            ]
          },
          "execution_count": 74,
          "metadata": {},
          "output_type": "execute_result"
        }
      ],
      "source": [
        "a.argmin()"
      ]
    }
  ],
  "metadata": {
    "colab": {
      "include_colab_link": true,
      "name": "03_manejo_de_datos-numpy.ipynb",
      "provenance": []
    },
    "kernelspec": {
      "display_name": "Python 3",
      "name": "python3"
    },
    "language_info": {
      "codemirror_mode": {
        "name": "ipython",
        "version": 3
      },
      "file_extension": ".py",
      "mimetype": "text/x-python",
      "name": "python",
      "nbconvert_exporter": "python",
      "pygments_lexer": "ipython3",
      "version": "3.11.3"
    },
    "orig_nbformat": 2
  },
  "nbformat": 4,
  "nbformat_minor": 0
}
